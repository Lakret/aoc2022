{
 "cells": [
  {
   "cell_type": "markdown",
   "metadata": {},
   "source": [
    "### Input"
   ]
  },
  {
   "cell_type": "code",
   "execution_count": 84,
   "metadata": {},
   "outputs": [],
   "source": [
    "test_input = [\n",
    "    \"vJrwpWtwJgWrhcsFMMfFFhFp\",\n",
    "    \"jqHRNqRjqzjGDLGLrsFMfFZSrLrFZsSL\",\n",
    "    \"PmmdzqPrVvPwwTWBwg\",\n",
    "    \"wMqvLMZHhHMvwLHjbvcjnnSBnvTQFn\",\n",
    "    \"ttgJtRGJQctTZtZT\",\n",
    "    \"CrZsJsPPZsGzwwsLwLmpwMDw\"\n",
    "]"
   ]
  },
  {
   "cell_type": "code",
   "execution_count": 85,
   "metadata": {},
   "outputs": [],
   "source": [
    "with open(\"inputs/d03\") as f:\n",
    "    input = [line.strip() for line in f.readlines()] "
   ]
  },
  {
   "cell_type": "markdown",
   "metadata": {},
   "source": [
    "### Part 1"
   ]
  },
  {
   "cell_type": "code",
   "execution_count": 86,
   "metadata": {},
   "outputs": [],
   "source": [
    "def get_compartments(line):\n",
    "    pos = int(len(line) / 2)\n",
    "    return (line[:pos], line[pos:])"
   ]
  },
  {
   "cell_type": "code",
   "execution_count": 87,
   "metadata": {},
   "outputs": [],
   "source": [
    "def same_char(comps):\n",
    "    (comp1, comp2) = comps\n",
    "    return list(set(comp1).intersection(set(comp2)))[0]"
   ]
  },
  {
   "cell_type": "code",
   "execution_count": 88,
   "metadata": {},
   "outputs": [],
   "source": [
    "def priority(ch):\n",
    "    if ch.islower():\n",
    "        return ord(ch) - ord('a') + 1\n",
    "    else:\n",
    "        return ord(ch) - ord('A') + 27"
   ]
  },
  {
   "cell_type": "code",
   "execution_count": 89,
   "metadata": {},
   "outputs": [],
   "source": [
    "def p1(input):\n",
    "    return sum([\n",
    "        priority(same_char(get_compartments(line)))\n",
    "        for line in input\n",
    "    ])"
   ]
  },
  {
   "cell_type": "code",
   "execution_count": 90,
   "metadata": {},
   "outputs": [],
   "source": [
    "assert p1(test_input) == 157"
   ]
  },
  {
   "cell_type": "code",
   "execution_count": 91,
   "metadata": {},
   "outputs": [
    {
     "data": {
      "text/plain": [
       "7674"
      ]
     },
     "execution_count": 91,
     "metadata": {},
     "output_type": "execute_result"
    }
   ],
   "source": [
    "p1(input)"
   ]
  },
  {
   "cell_type": "markdown",
   "metadata": {},
   "source": [
    "### Part 2"
   ]
  },
  {
   "cell_type": "code",
   "execution_count": 92,
   "metadata": {},
   "outputs": [],
   "source": [
    "def put_in_groups(input):\n",
    "    group_size = 3\n",
    "    for start_idx in range(0, len(input) - group_size + 1, 3):\n",
    "        yield input[start_idx:(start_idx+group_size)]"
   ]
  },
  {
   "cell_type": "code",
   "execution_count": 93,
   "metadata": {},
   "outputs": [],
   "source": [
    "def p2(input):\n",
    "    ans = 0\n",
    "    for rucksacks in put_in_groups(input):\n",
    "        [r1, r2, r3] = [set(list(r)) for r in rucksacks]\n",
    "        badge = list(r1.intersection(r2.intersection(r3)))[0]\n",
    "        ans += priority(badge)\n",
    "    return ans"
   ]
  },
  {
   "cell_type": "code",
   "execution_count": 94,
   "metadata": {},
   "outputs": [],
   "source": [
    "assert p2(test_input) == 70"
   ]
  },
  {
   "cell_type": "code",
   "execution_count": 95,
   "metadata": {},
   "outputs": [
    {
     "data": {
      "text/plain": [
       "2805"
      ]
     },
     "execution_count": 95,
     "metadata": {},
     "output_type": "execute_result"
    }
   ],
   "source": [
    "p2(input)"
   ]
  }
 ],
 "metadata": {
  "kernelspec": {
   "display_name": "Python 3.10.0 ('aoc2022-fSWkufjZ')",
   "language": "python",
   "name": "python3"
  },
  "language_info": {
   "codemirror_mode": {
    "name": "ipython",
    "version": 3
   },
   "file_extension": ".py",
   "mimetype": "text/x-python",
   "name": "python",
   "nbconvert_exporter": "python",
   "pygments_lexer": "ipython3",
   "version": "3.10.0"
  },
  "orig_nbformat": 4,
  "vscode": {
   "interpreter": {
    "hash": "c3befa900596c979ec6d5c26104454d5fef4645a59abeaf67099ce7507b121d9"
   }
  }
 },
 "nbformat": 4,
 "nbformat_minor": 2
}
