{
 "cells": [
  {
   "cell_type": "code",
   "execution_count": 36,
   "metadata": {},
   "outputs": [],
   "source": [
    "from typing import Union, Callable\n",
    "from dataclasses import dataclass"
   ]
  },
  {
   "cell_type": "code",
   "execution_count": 11,
   "metadata": {},
   "outputs": [],
   "source": [
    "Op = Union[str, tuple[str, int]]"
   ]
  },
  {
   "cell_type": "code",
   "execution_count": 12,
   "metadata": {},
   "outputs": [],
   "source": [
    "def parse(input: str) -> list[Op]:\n",
    "    def parse_op(op: str) -> Op:\n",
    "        match op.split():\n",
    "            case [\"noop\"]:\n",
    "                return \"noop\"\n",
    "            case [\"addx\", value]:\n",
    "                return (\"addx\", int(value))\n",
    "\n",
    "    return [parse_op(line) for line in input.strip().split(\"\\n\")]"
   ]
  },
  {
   "cell_type": "code",
   "execution_count": 18,
   "metadata": {},
   "outputs": [],
   "source": [
    "simple_test_input = \\\n",
    "\"\"\"\n",
    "noop\n",
    "addx 3\n",
    "addx -5\n",
    "\"\"\"\n",
    "simple_test_input = parse(simple_test_input)\n",
    "\n",
    "with open(\"inputs/d10_test\") as f:\n",
    "    test_input = parse(f.read())\n",
    "\n",
    "with open(\"inputs/d10\") as f:\n",
    "    input = parse(f.read())"
   ]
  },
  {
   "cell_type": "code",
   "execution_count": 17,
   "metadata": {},
   "outputs": [
    {
     "data": {
      "text/plain": [
       "['noop', ('addx', 3), ('addx', -5)]"
      ]
     },
     "execution_count": 17,
     "metadata": {},
     "output_type": "execute_result"
    }
   ],
   "source": [
    "simple_test_input"
   ]
  },
  {
   "cell_type": "code",
   "execution_count": 95,
   "metadata": {},
   "outputs": [],
   "source": [
    "@dataclass\n",
    "class State:\n",
    "    X: int = 1\n",
    "    cycle: int = 1\n",
    "\n",
    "    def exec(self, ops: list[Op], callback: Callable[[int, int], None]) -> int:\n",
    "        for op in ops:\n",
    "            self.exec_op(op, callback)\n",
    "\n",
    "    def exec_op(self, op: Op, callback: Callable[[int, int], None]):\n",
    "        match op:\n",
    "            case \"noop\":\n",
    "                self.tick(callback)\n",
    "            case (\"addx\", value):\n",
    "                self.tick(callback)\n",
    "                self.tick(callback)\n",
    "                self.X += value\n",
    "\n",
    "    def tick(self, callback: Callable[[int, int], None]):\n",
    "        callback(self.cycle, self.X)\n",
    "        self.cycle += 1\n"
   ]
  },
  {
   "cell_type": "code",
   "execution_count": 96,
   "metadata": {},
   "outputs": [],
   "source": [
    "def p1(ops: list[Op]) -> int:\n",
    "    measure_at_ticks = set(range(20, 260, 40))\n",
    "    signal_strength = 0\n",
    "\n",
    "    def calculate_signal_strength(cycle: int, X: int):\n",
    "        nonlocal signal_strength\n",
    "        if cycle in measure_at_ticks:\n",
    "            signal_strength += cycle * X\n",
    "\n",
    "    State().exec(ops, calculate_signal_strength)\n",
    "    return signal_strength\n"
   ]
  },
  {
   "cell_type": "code",
   "execution_count": 97,
   "metadata": {},
   "outputs": [
    {
     "data": {
      "text/plain": [
       "13140"
      ]
     },
     "execution_count": 97,
     "metadata": {},
     "output_type": "execute_result"
    }
   ],
   "source": [
    "# 13140\n",
    "p1(test_input)"
   ]
  },
  {
   "cell_type": "code",
   "execution_count": 98,
   "metadata": {},
   "outputs": [
    {
     "data": {
      "text/plain": [
       "14420"
      ]
     },
     "execution_count": 98,
     "metadata": {},
     "output_type": "execute_result"
    }
   ],
   "source": [
    "# 14420\n",
    "p1(input)"
   ]
  },
  {
   "cell_type": "code",
   "execution_count": 103,
   "metadata": {},
   "outputs": [],
   "source": [
    "def p2(ops: list[Op]): \n",
    "    width = 40\n",
    "\n",
    "    def show_image(cycle: int, X: int):\n",
    "        end_char = \"\\n\" if cycle % width == 0 else \"\"\n",
    "        pos = (cycle % width) - 1\n",
    "        if pos >= X-1 and pos <= X + 1:\n",
    "            print(\"#\", end=end_char)\n",
    "        else:\n",
    "            print(\".\", end=end_char)\n",
    "\n",
    "    State().exec(ops, show_image)\n",
    "            "
   ]
  },
  {
   "cell_type": "code",
   "execution_count": 104,
   "metadata": {},
   "outputs": [
    {
     "name": "stdout",
     "output_type": "stream",
     "text": [
      "##..##..##..##..##..##..##..##..##..##..\n",
      "###...###...###...###...###...###...###.\n",
      "####....####....####....####....####....\n",
      "#####.....#####.....#####.....#####.....\n",
      "######......######......######......###.\n",
      "#######.......#######.......#######.....\n"
     ]
    }
   ],
   "source": [
    "p2(test_input)"
   ]
  },
  {
   "cell_type": "code",
   "execution_count": 105,
   "metadata": {},
   "outputs": [],
   "source": [
    "# Expected:\n",
    "\n",
    "##..##..##..##..##..##..##..##..##..##..\n",
    "###...###...###...###...###...###...###.\n",
    "####....####....####....####....####....\n",
    "#####.....#####.....#####.....#####.....\n",
    "######......######......######......####\n",
    "#######.......#######.......#######....."
   ]
  },
  {
   "cell_type": "code",
   "execution_count": 102,
   "metadata": {},
   "outputs": [
    {
     "name": "stdout",
     "output_type": "stream",
     "text": [
      "###...##..#....###..###..####..##..#..#.\n",
      "#..#.#..#.#....#..#.#..#....#.#..#.#..##\n",
      "#..#.#....#....#..#.###....#..#..#.#..#.\n",
      "###..#.##.#....###..#..#..#...####.#..##\n",
      "#.#..#..#.#....#.#..#..#.#....#..#.#..##\n",
      "#..#..###.####.#..#.###..####.#..#..##..\n"
     ]
    }
   ],
   "source": [
    "p2(input)"
   ]
  },
  {
   "cell_type": "code",
   "execution_count": null,
   "metadata": {},
   "outputs": [],
   "source": [
    "# RGLRBZAU"
   ]
  }
 ],
 "metadata": {
  "kernelspec": {
   "display_name": "Python 3.10.0 ('aoc2022-fSWkufjZ')",
   "language": "python",
   "name": "python3"
  },
  "language_info": {
   "codemirror_mode": {
    "name": "ipython",
    "version": 3
   },
   "file_extension": ".py",
   "mimetype": "text/x-python",
   "name": "python",
   "nbconvert_exporter": "python",
   "pygments_lexer": "ipython3",
   "version": "3.10.0"
  },
  "orig_nbformat": 4,
  "vscode": {
   "interpreter": {
    "hash": "c3befa900596c979ec6d5c26104454d5fef4645a59abeaf67099ce7507b121d9"
   }
  }
 },
 "nbformat": 4,
 "nbformat_minor": 2
}
