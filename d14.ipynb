{
 "cells": [
  {
   "cell_type": "code",
   "execution_count": 198,
   "metadata": {},
   "outputs": [],
   "source": [
    "import numpy as np\n",
    "from copy import deepcopy\n",
    "from dataclasses import dataclass, field"
   ]
  },
  {
   "cell_type": "code",
   "execution_count": 45,
   "metadata": {},
   "outputs": [],
   "source": [
    "def parse_input(path: str) -> list[list[tuple[int, int]]]:\n",
    "    with open(path, \"r\") as f:\n",
    "        lines = f.readlines()\n",
    "    paths = []\n",
    "    for line in lines:\n",
    "        line = line.strip()\n",
    "        path = []\n",
    "        if line != \"\":\n",
    "            points = line.split(\" -> \")\n",
    "            for point in points:\n",
    "                [x, y] = [int(coord) for coord in point.split(\",\")]\n",
    "                path.append((x, y))\n",
    "        paths.append(path)\n",
    "    return paths"
   ]
  },
  {
   "cell_type": "code",
   "execution_count": 46,
   "metadata": {},
   "outputs": [
    {
     "data": {
      "text/plain": [
       "[[(498, 4), (498, 6), (496, 6)], [(503, 4), (502, 4), (502, 9), (494, 9)]]"
      ]
     },
     "execution_count": 46,
     "metadata": {},
     "output_type": "execute_result"
    }
   ],
   "source": [
    "test_input = parse_input(\"inputs/d14_test\")\n",
    "test_input"
   ]
  },
  {
   "cell_type": "code",
   "execution_count": 47,
   "metadata": {},
   "outputs": [],
   "source": [
    "input = parse_input(\"inputs/d14\")"
   ]
  },
  {
   "cell_type": "code",
   "execution_count": 48,
   "metadata": {},
   "outputs": [],
   "source": [
    "def coords_between(c1: int, c2: int) -> list[int]:\n",
    "    if c1 < c2:\n",
    "        return list(range(c1, c2 + 1))\n",
    "    elif c2 < c1: \n",
    "        return list(range(c1, c2 - 1, -1))\n",
    "    else:\n",
    "        return [c1]"
   ]
  },
  {
   "cell_type": "code",
   "execution_count": 158,
   "metadata": {},
   "outputs": [],
   "source": [
    "@dataclass \n",
    "class Cave:\n",
    "    paths: list[list[tuple[int, int]]] = field(default_factory=list)\n",
    "    with_floor: bool = False\n",
    "\n",
    "    def __post_init__(self):\n",
    "        min_x, max_x, min_y, max_y = self._bounding_box()\n",
    "        self.min_x = min_x\n",
    "        self.max_x = max_x\n",
    "        self.min_y = min_y\n",
    "        self.max_y = max_y\n",
    "\n",
    "        self.offset_x = self.min_x\n",
    "        self.grid = np.zeros((self.max_y + 1, self.max_x - self.offset_x + 1), np.int32)\n",
    "        self._fill_grid()\n",
    "\n",
    "        self.sand_units = 0\n",
    "\n",
    "    \n",
    "    def _bounding_box(self):\n",
    "        min_x, min_y = self.paths[0][0]\n",
    "        max_x, max_y = min_x, min_y\n",
    "        for path in self.paths:\n",
    "            for (x, y) in path:\n",
    "                if x > max_x:\n",
    "                    max_x = x\n",
    "                elif x < min_x:\n",
    "                    min_x = x\n",
    "                if y > max_y:\n",
    "                    max_y = y\n",
    "                elif y < min_y:\n",
    "                    min_y = y\n",
    "        return min_x, max_x, min_y, max_y\n",
    "\n",
    "    \n",
    "    def _fill_grid(self):\n",
    "        for path in self.paths:\n",
    "            for curr_idx in range(1, len(path)):\n",
    "                (prev_x, prev_y), (curr_x, curr_y) = path[curr_idx - 1], path[curr_idx]\n",
    "                for x in coords_between(prev_x, curr_x):\n",
    "                    for y in coords_between(prev_y, curr_y):\n",
    "                        self.grid[y, x - self.offset_x] = -1\n",
    "\n",
    "    \n",
    "    def drop_sand(self) -> tuple[tuple[int, int], bool, bool, bool]:\n",
    "        self.sand_units += 1\n",
    "        id = self.sand_units\n",
    "\n",
    "        x, y = 500 - self.offset_x, 0\n",
    "        came_to_rest, spilled, clogged = False, False, self.grid[y, x] != 0\n",
    "        while not came_to_rest and not spilled and not clogged:\n",
    "            # drop one step below\n",
    "            if y + 1 <= self.max_y and self.grid[y + 1, x] == 0:\n",
    "                y += 1\n",
    "            # drop below and to the left\n",
    "            elif y + 1 <= self.max_y and self.grid[y + 1, x - 1] == 0:\n",
    "                y += 1\n",
    "                x -= 1\n",
    "            # drop below and to the right\n",
    "            elif y + 1 <= self.max_y and self.grid[y + 1, x + 1] == 0:\n",
    "                y += 1\n",
    "                x += 1\n",
    "            elif y >= self.max_y or x > self.max_x or x < (self.min_x - self.offset_x):\n",
    "                self.sand_units -= 1\n",
    "                spilled = True\n",
    "            else:\n",
    "                came_to_rest = True\n",
    "                clogged = self.grid[0, 500 - self.offset_x] != 0\n",
    "                \n",
    "        if not spilled and not clogged:\n",
    "            self.grid[y, x] = id\n",
    "\n",
    "        return ((x, y), came_to_rest, spilled, clogged)\n",
    "\n",
    "\n",
    "    def drop_many(self, units: int):\n",
    "        \"\"\"Returns True if all units came to rest, otherwise returns False.\"\"\"\n",
    "        for _ in range(0, units):\n",
    "            (_x, _y), _came_to_rest, spilled, clogged = self.drop_sand()\n",
    "            if spilled or clogged:\n",
    "                return False\n",
    "        return True\n",
    "\n",
    "\n",
    "    def reset_sand(self):\n",
    "        self.sand_units = 0\n",
    "        self.grid[self.grid > 0] = 0\n"
   ]
  },
  {
   "cell_type": "code",
   "execution_count": 159,
   "metadata": {},
   "outputs": [
    {
     "data": {
      "text/plain": [
       "array([[ 0,  0,  0,  0,  0,  0,  0,  0,  0,  0],\n",
       "       [ 0,  0,  0,  0,  0,  0,  0,  0,  0,  0],\n",
       "       [ 0,  0,  0,  0,  0,  0,  0,  0,  0,  0],\n",
       "       [ 0,  0,  0,  0,  0,  0,  0,  0,  0,  0],\n",
       "       [ 0,  0,  0,  0, -1,  0,  0,  0, -1, -1],\n",
       "       [ 0,  0,  0,  0, -1,  0,  0,  0, -1,  0],\n",
       "       [ 0,  0, -1, -1, -1,  0,  0,  0, -1,  0],\n",
       "       [ 0,  0,  0,  0,  0,  0,  0,  0, -1,  0],\n",
       "       [ 0,  0,  0,  0,  0,  0,  0,  0, -1,  0],\n",
       "       [-1, -1, -1, -1, -1, -1, -1, -1, -1,  0]], dtype=int32)"
      ]
     },
     "execution_count": 159,
     "metadata": {},
     "output_type": "execute_result"
    }
   ],
   "source": [
    "test_cave = Cave(test_input)\n",
    "test_cave.grid"
   ]
  },
  {
   "cell_type": "code",
   "execution_count": 160,
   "metadata": {},
   "outputs": [
    {
     "data": {
      "text/plain": [
       "Cave(paths=[[(498, 4), (498, 6), (496, 6)], [(503, 4), (502, 4), (502, 9), (494, 9)]], with_floor=False)"
      ]
     },
     "execution_count": 160,
     "metadata": {},
     "output_type": "execute_result"
    }
   ],
   "source": [
    "test_cave"
   ]
  },
  {
   "cell_type": "code",
   "execution_count": 161,
   "metadata": {},
   "outputs": [
    {
     "data": {
      "text/plain": [
       "((6, 8), True, False, False)"
      ]
     },
     "execution_count": 161,
     "metadata": {},
     "output_type": "execute_result"
    }
   ],
   "source": [
    "test_cave.drop_sand()"
   ]
  },
  {
   "cell_type": "code",
   "execution_count": 162,
   "metadata": {},
   "outputs": [
    {
     "data": {
      "text/plain": [
       "array([[ 0,  0,  0,  0,  0,  0,  0,  0,  0,  0],\n",
       "       [ 0,  0,  0,  0,  0,  0,  0,  0,  0,  0],\n",
       "       [ 0,  0,  0,  0,  0,  0, 22,  0,  0,  0],\n",
       "       [ 0,  0,  0,  0,  0, 20, 19, 21,  0,  0],\n",
       "       [ 0,  0,  0,  0, -1, 17, 16, 18, -1, -1],\n",
       "       [ 0,  0,  0, 23, -1, 14, 13, 15, -1,  0],\n",
       "       [ 0,  0, -1, -1, -1, 11,  8, 12, -1,  0],\n",
       "       [ 0,  0,  0,  0, 10,  6,  4,  7, -1,  0],\n",
       "       [ 0,  0,  0,  9,  5,  2,  1,  3, -1,  0],\n",
       "       [-1, -1, -1, -1, -1, -1, -1, -1, -1,  0]], dtype=int32)"
      ]
     },
     "execution_count": 162,
     "metadata": {},
     "output_type": "execute_result"
    }
   ],
   "source": [
    "test_cave.drop_many(22)\n",
    "test_cave.grid"
   ]
  },
  {
   "cell_type": "code",
   "execution_count": 163,
   "metadata": {},
   "outputs": [
    {
     "data": {
      "text/plain": [
       "array([[ 0,  0,  0,  0,  0,  0,  0,  0,  0,  0],\n",
       "       [ 0,  0,  0,  0,  0,  0,  0,  0,  0,  0],\n",
       "       [ 0,  0,  0,  0,  0,  0, 22,  0,  0,  0],\n",
       "       [ 0,  0,  0,  0,  0, 20, 19, 21,  0,  0],\n",
       "       [ 0,  0,  0,  0, -1, 17, 16, 18, -1, -1],\n",
       "       [ 0,  0,  0, 23, -1, 14, 13, 15, -1,  0],\n",
       "       [ 0,  0, -1, -1, -1, 11,  8, 12, -1,  0],\n",
       "       [ 0,  0,  0,  0, 10,  6,  4,  7, -1,  0],\n",
       "       [ 0, 24,  0,  9,  5,  2,  1,  3, -1,  0],\n",
       "       [-1, -1, -1, -1, -1, -1, -1, -1, -1,  0]], dtype=int32)"
      ]
     },
     "execution_count": 163,
     "metadata": {},
     "output_type": "execute_result"
    }
   ],
   "source": [
    "test_cave.drop_sand()\n",
    "test_cave.grid"
   ]
  },
  {
   "cell_type": "code",
   "execution_count": 164,
   "metadata": {},
   "outputs": [
    {
     "data": {
      "text/plain": [
       "array([[ 0,  0,  0,  0,  0,  0,  0,  0,  0,  0],\n",
       "       [ 0,  0,  0,  0,  0,  0,  0,  0,  0,  0],\n",
       "       [ 0,  0,  0,  0,  0,  0, 22,  0,  0,  0],\n",
       "       [ 0,  0,  0,  0,  0, 20, 19, 21,  0,  0],\n",
       "       [ 0,  0,  0,  0, -1, 17, 16, 18, -1, -1],\n",
       "       [ 0,  0,  0, 23, -1, 14, 13, 15, -1,  0],\n",
       "       [ 0,  0, -1, -1, -1, 11,  8, 12, -1,  0],\n",
       "       [ 0,  0,  0,  0, 10,  6,  4,  7, -1,  0],\n",
       "       [ 0, 24,  0,  9,  5,  2,  1,  3, -1,  0],\n",
       "       [-1, -1, -1, -1, -1, -1, -1, -1, -1,  0]], dtype=int32)"
      ]
     },
     "execution_count": 164,
     "metadata": {},
     "output_type": "execute_result"
    }
   ],
   "source": [
    "test_cave.drop_sand()\n",
    "test_cave.grid"
   ]
  },
  {
   "cell_type": "code",
   "execution_count": 165,
   "metadata": {},
   "outputs": [
    {
     "data": {
      "text/plain": [
       "((-1, 9), False, True, False)"
      ]
     },
     "execution_count": 165,
     "metadata": {},
     "output_type": "execute_result"
    }
   ],
   "source": [
    "test_cave.drop_sand()"
   ]
  },
  {
   "cell_type": "code",
   "execution_count": 166,
   "metadata": {},
   "outputs": [
    {
     "data": {
      "text/plain": [
       "(171, 70)"
      ]
     },
     "execution_count": 166,
     "metadata": {},
     "output_type": "execute_result"
    }
   ],
   "source": [
    "cave = Cave(input)\n",
    "cave.grid.shape"
   ]
  },
  {
   "cell_type": "code",
   "execution_count": 167,
   "metadata": {},
   "outputs": [],
   "source": [
    "def p1(cave: Cave):\n",
    "    spilled = False\n",
    "    while not spilled:\n",
    "        _coords, _came_to_rest, spilled, _clogged = cave.drop_sand()\n",
    "    return cave.sand_units"
   ]
  },
  {
   "cell_type": "code",
   "execution_count": 168,
   "metadata": {},
   "outputs": [
    {
     "data": {
      "text/plain": [
       "array([[ 0,  0,  0,  0,  0,  0,  0,  0,  0,  0],\n",
       "       [ 0,  0,  0,  0,  0,  0,  0,  0,  0,  0],\n",
       "       [ 0,  0,  0,  0,  0,  0,  0,  0,  0,  0],\n",
       "       [ 0,  0,  0,  0,  0,  0,  0,  0,  0,  0],\n",
       "       [ 0,  0,  0,  0, -1,  0,  0,  0, -1, -1],\n",
       "       [ 0,  0,  0,  0, -1,  0,  0,  0, -1,  0],\n",
       "       [ 0,  0, -1, -1, -1,  0,  0,  0, -1,  0],\n",
       "       [ 0,  0,  0,  0,  0,  0,  0,  0, -1,  0],\n",
       "       [ 0,  0,  0,  0,  0,  0,  0,  0, -1,  0],\n",
       "       [-1, -1, -1, -1, -1, -1, -1, -1, -1,  0]], dtype=int32)"
      ]
     },
     "execution_count": 168,
     "metadata": {},
     "output_type": "execute_result"
    }
   ],
   "source": [
    "test_cave.reset_sand()\n",
    "test_cave.grid"
   ]
  },
  {
   "cell_type": "code",
   "execution_count": 169,
   "metadata": {},
   "outputs": [],
   "source": [
    "assert p1(test_cave) == 24"
   ]
  },
  {
   "cell_type": "code",
   "execution_count": 170,
   "metadata": {},
   "outputs": [],
   "source": [
    "assert p1(cave) == 832"
   ]
  },
  {
   "cell_type": "code",
   "execution_count": 191,
   "metadata": {},
   "outputs": [],
   "source": [
    "def p2(cave: Cave):\n",
    "    paths = deepcopy(cave.paths)\n",
    "    paths.append([(cave.min_x - 1000, cave.max_y + 2), (cave.max_x + 1000, cave.max_y + 2)])\n",
    "    \n",
    "    cave = Cave(paths, with_floor=True)\n",
    "    clogged = False\n",
    "    while not clogged:\n",
    "        _coords, _came_to_rest, _spilled, clogged = cave.drop_sand()\n",
    "    return cave.grid.max()"
   ]
  },
  {
   "cell_type": "code",
   "execution_count": 193,
   "metadata": {},
   "outputs": [],
   "source": [
    "assert p2(test_cave) == 93"
   ]
  },
  {
   "cell_type": "code",
   "execution_count": 194,
   "metadata": {},
   "outputs": [
    {
     "data": {
      "text/plain": [
       "27601"
      ]
     },
     "execution_count": 194,
     "metadata": {},
     "output_type": "execute_result"
    }
   ],
   "source": [
    "assert p2(cave) == 27601"
   ]
  }
 ],
 "metadata": {
  "kernelspec": {
   "display_name": "Python 3.10.0 ('aoc2022-fSWkufjZ')",
   "language": "python",
   "name": "python3"
  },
  "language_info": {
   "codemirror_mode": {
    "name": "ipython",
    "version": 3
   },
   "file_extension": ".py",
   "mimetype": "text/x-python",
   "name": "python",
   "nbconvert_exporter": "python",
   "pygments_lexer": "ipython3",
   "version": "3.10.0"
  },
  "orig_nbformat": 4,
  "vscode": {
   "interpreter": {
    "hash": "c3befa900596c979ec6d5c26104454d5fef4645a59abeaf67099ce7507b121d9"
   }
  }
 },
 "nbformat": 4,
 "nbformat_minor": 2
}
