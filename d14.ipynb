{
 "cells": [
  {
   "cell_type": "code",
   "execution_count": 284,
   "metadata": {},
   "outputs": [],
   "source": [
    "import numpy as np\n",
    "import plotly.express as px\n",
    "\n",
    "from copy import deepcopy\n",
    "from dataclasses import dataclass, field"
   ]
  },
  {
   "cell_type": "code",
   "execution_count": 285,
   "metadata": {},
   "outputs": [],
   "source": [
    "def parse_input(path: str) -> list[list[tuple[int, int]]]:\n",
    "    with open(path, \"r\") as f:\n",
    "        lines = f.readlines()\n",
    "    paths = []\n",
    "    for line in lines:\n",
    "        line = line.strip()\n",
    "        path = []\n",
    "        if line != \"\":\n",
    "            points = line.split(\" -> \")\n",
    "            for point in points:\n",
    "                [x, y] = [int(coord) for coord in point.split(\",\")]\n",
    "                path.append((x, y))\n",
    "        paths.append(path)\n",
    "    return paths"
   ]
  },
  {
   "cell_type": "code",
   "execution_count": 286,
   "metadata": {},
   "outputs": [
    {
     "data": {
      "text/plain": [
       "[[(498, 4), (498, 6), (496, 6)], [(503, 4), (502, 4), (502, 9), (494, 9)]]"
      ]
     },
     "execution_count": 286,
     "metadata": {},
     "output_type": "execute_result"
    }
   ],
   "source": [
    "test_input = parse_input(\"inputs/d14_test\")\n",
    "test_input"
   ]
  },
  {
   "cell_type": "code",
   "execution_count": 287,
   "metadata": {},
   "outputs": [],
   "source": [
    "input = parse_input(\"inputs/d14\")"
   ]
  },
  {
   "cell_type": "code",
   "execution_count": 288,
   "metadata": {},
   "outputs": [],
   "source": [
    "def coords_between(c1: int, c2: int) -> list[int]:\n",
    "    if c1 < c2:\n",
    "        return list(range(c1, c2 + 1))\n",
    "    elif c2 < c1: \n",
    "        return list(range(c1, c2 - 1, -1))\n",
    "    else:\n",
    "        return [c1]"
   ]
  },
  {
   "cell_type": "code",
   "execution_count": 289,
   "metadata": {},
   "outputs": [],
   "source": [
    "@dataclass \n",
    "class Cave:\n",
    "    paths: list[list[tuple[int, int]]] = field(default_factory=list)\n",
    "    with_floor: bool = False\n",
    "\n",
    "    def __post_init__(self):\n",
    "        min_x, max_x, min_y, max_y = self._bounding_box()\n",
    "        self.min_x = min_x\n",
    "        self.max_x = max_x\n",
    "        self.min_y = min_y\n",
    "        self.max_y = max_y\n",
    "\n",
    "        self.offset_x = self.min_x\n",
    "        self.grid = np.zeros((self.max_y + 1, self.max_x - self.offset_x + 1), np.int32)\n",
    "        self._fill_grid()\n",
    "\n",
    "        self.sand_units = 0\n",
    "\n",
    "    \n",
    "    def _bounding_box(self):\n",
    "        min_x, min_y = self.paths[0][0]\n",
    "        max_x, max_y = min_x, min_y\n",
    "        for path in self.paths:\n",
    "            for (x, y) in path:\n",
    "                if x > max_x:\n",
    "                    max_x = x\n",
    "                elif x < min_x:\n",
    "                    min_x = x\n",
    "                if y > max_y:\n",
    "                    max_y = y\n",
    "                elif y < min_y:\n",
    "                    min_y = y\n",
    "        return min_x, max_x, min_y, max_y\n",
    "\n",
    "    \n",
    "    def _fill_grid(self):\n",
    "        for path in self.paths:\n",
    "            for curr_idx in range(1, len(path)):\n",
    "                (prev_x, prev_y), (curr_x, curr_y) = path[curr_idx - 1], path[curr_idx]\n",
    "                for x in coords_between(prev_x, curr_x):\n",
    "                    for y in coords_between(prev_y, curr_y):\n",
    "                        self.grid[y, x - self.offset_x] = -1\n",
    "    \n",
    "    \n",
    "    def to_chart(self) -> tuple[list[int], list[int]]:\n",
    "        \"\"\"Returns xs and ys arrays.\"\"\"\n",
    "        (y, x) = np.where(self.grid == -1)\n",
    "        return (x, y)\n",
    "\n",
    "    \n",
    "    def drop_sand(self) -> tuple[tuple[int, int], bool, bool, bool]:\n",
    "        self.sand_units += 1\n",
    "        id = self.sand_units\n",
    "\n",
    "        x, y = 500 - self.offset_x, 0\n",
    "        came_to_rest, spilled, clogged = False, False, False\n",
    "        while not came_to_rest and not spilled:\n",
    "            # drop one step below\n",
    "            if y + 1 <= self.max_y and self.grid[y + 1, x] == 0:\n",
    "                y += 1\n",
    "            # drop below and to the left\n",
    "            elif y + 1 <= self.max_y and self.grid[y + 1, x - 1] == 0:\n",
    "                y += 1\n",
    "                x -= 1\n",
    "            # drop below and to the right\n",
    "            elif y + 1 <= self.max_y and self.grid[y + 1, x + 1] == 0:\n",
    "                y += 1\n",
    "                x += 1\n",
    "            elif y >= self.max_y or x > self.max_x or x < (self.min_x - self.offset_x):\n",
    "                self.sand_units -= 1\n",
    "                spilled = True\n",
    "            else:\n",
    "                came_to_rest = True\n",
    "                if y == 0:\n",
    "                    clogged = True\n",
    "                \n",
    "        if not spilled:\n",
    "            self.grid[y, x] = id\n",
    "\n",
    "        return ((x, y), came_to_rest, spilled, clogged)\n",
    "\n",
    "\n",
    "    def drop_many(self, units: int):\n",
    "        \"\"\"Returns True if all units came to rest, otherwise returns False.\"\"\"\n",
    "        for _ in range(0, units):\n",
    "            (_x, _y), _came_to_rest, spilled, clogged = self.drop_sand()\n",
    "            if spilled or clogged:\n",
    "                return False\n",
    "        return True\n",
    "\n",
    "\n",
    "    def reset_sand(self):\n",
    "        self.sand_units = 0\n",
    "        self.grid[self.grid > 0] = 0\n"
   ]
  },
  {
   "cell_type": "code",
   "execution_count": 290,
   "metadata": {},
   "outputs": [
    {
     "data": {
      "text/plain": [
       "array([[ 0,  0,  0,  0,  0,  0,  0,  0,  0,  0],\n",
       "       [ 0,  0,  0,  0,  0,  0,  0,  0,  0,  0],\n",
       "       [ 0,  0,  0,  0,  0,  0,  0,  0,  0,  0],\n",
       "       [ 0,  0,  0,  0,  0,  0,  0,  0,  0,  0],\n",
       "       [ 0,  0,  0,  0, -1,  0,  0,  0, -1, -1],\n",
       "       [ 0,  0,  0,  0, -1,  0,  0,  0, -1,  0],\n",
       "       [ 0,  0, -1, -1, -1,  0,  0,  0, -1,  0],\n",
       "       [ 0,  0,  0,  0,  0,  0,  0,  0, -1,  0],\n",
       "       [ 0,  0,  0,  0,  0,  0,  0,  0, -1,  0],\n",
       "       [-1, -1, -1, -1, -1, -1, -1, -1, -1,  0]], dtype=int32)"
      ]
     },
     "execution_count": 290,
     "metadata": {},
     "output_type": "execute_result"
    }
   ],
   "source": [
    "test_cave = Cave(test_input)\n",
    "test_cave.grid"
   ]
  },
  {
   "cell_type": "code",
   "execution_count": 291,
   "metadata": {},
   "outputs": [
    {
     "data": {
      "text/plain": [
       "Cave(paths=[[(498, 4), (498, 6), (496, 6)], [(503, 4), (502, 4), (502, 9), (494, 9)]], with_floor=False)"
      ]
     },
     "execution_count": 291,
     "metadata": {},
     "output_type": "execute_result"
    }
   ],
   "source": [
    "test_cave"
   ]
  },
  {
   "cell_type": "code",
   "execution_count": 292,
   "metadata": {},
   "outputs": [
    {
     "data": {
      "text/plain": [
       "((6, 8), True, False, False)"
      ]
     },
     "execution_count": 292,
     "metadata": {},
     "output_type": "execute_result"
    }
   ],
   "source": [
    "test_cave.drop_sand()"
   ]
  },
  {
   "cell_type": "code",
   "execution_count": 293,
   "metadata": {},
   "outputs": [
    {
     "data": {
      "text/plain": [
       "array([[ 0,  0,  0,  0,  0,  0,  0,  0,  0,  0],\n",
       "       [ 0,  0,  0,  0,  0,  0,  0,  0,  0,  0],\n",
       "       [ 0,  0,  0,  0,  0,  0, 22,  0,  0,  0],\n",
       "       [ 0,  0,  0,  0,  0, 20, 19, 21,  0,  0],\n",
       "       [ 0,  0,  0,  0, -1, 17, 16, 18, -1, -1],\n",
       "       [ 0,  0,  0, 23, -1, 14, 13, 15, -1,  0],\n",
       "       [ 0,  0, -1, -1, -1, 11,  8, 12, -1,  0],\n",
       "       [ 0,  0,  0,  0, 10,  6,  4,  7, -1,  0],\n",
       "       [ 0,  0,  0,  9,  5,  2,  1,  3, -1,  0],\n",
       "       [-1, -1, -1, -1, -1, -1, -1, -1, -1,  0]], dtype=int32)"
      ]
     },
     "execution_count": 293,
     "metadata": {},
     "output_type": "execute_result"
    }
   ],
   "source": [
    "test_cave.drop_many(22)\n",
    "test_cave.grid"
   ]
  },
  {
   "cell_type": "code",
   "execution_count": 294,
   "metadata": {},
   "outputs": [
    {
     "data": {
      "text/plain": [
       "array([[ 0,  0,  0,  0,  0,  0,  0,  0,  0,  0],\n",
       "       [ 0,  0,  0,  0,  0,  0,  0,  0,  0,  0],\n",
       "       [ 0,  0,  0,  0,  0,  0, 22,  0,  0,  0],\n",
       "       [ 0,  0,  0,  0,  0, 20, 19, 21,  0,  0],\n",
       "       [ 0,  0,  0,  0, -1, 17, 16, 18, -1, -1],\n",
       "       [ 0,  0,  0, 23, -1, 14, 13, 15, -1,  0],\n",
       "       [ 0,  0, -1, -1, -1, 11,  8, 12, -1,  0],\n",
       "       [ 0,  0,  0,  0, 10,  6,  4,  7, -1,  0],\n",
       "       [ 0, 24,  0,  9,  5,  2,  1,  3, -1,  0],\n",
       "       [-1, -1, -1, -1, -1, -1, -1, -1, -1,  0]], dtype=int32)"
      ]
     },
     "execution_count": 294,
     "metadata": {},
     "output_type": "execute_result"
    }
   ],
   "source": [
    "test_cave.drop_sand()\n",
    "test_cave.grid"
   ]
  },
  {
   "cell_type": "code",
   "execution_count": 295,
   "metadata": {},
   "outputs": [
    {
     "data": {
      "text/plain": [
       "array([[ 0,  0,  0,  0,  0,  0,  0,  0,  0,  0],\n",
       "       [ 0,  0,  0,  0,  0,  0,  0,  0,  0,  0],\n",
       "       [ 0,  0,  0,  0,  0,  0, 22,  0,  0,  0],\n",
       "       [ 0,  0,  0,  0,  0, 20, 19, 21,  0,  0],\n",
       "       [ 0,  0,  0,  0, -1, 17, 16, 18, -1, -1],\n",
       "       [ 0,  0,  0, 23, -1, 14, 13, 15, -1,  0],\n",
       "       [ 0,  0, -1, -1, -1, 11,  8, 12, -1,  0],\n",
       "       [ 0,  0,  0,  0, 10,  6,  4,  7, -1,  0],\n",
       "       [ 0, 24,  0,  9,  5,  2,  1,  3, -1,  0],\n",
       "       [-1, -1, -1, -1, -1, -1, -1, -1, -1,  0]], dtype=int32)"
      ]
     },
     "execution_count": 295,
     "metadata": {},
     "output_type": "execute_result"
    }
   ],
   "source": [
    "test_cave.drop_sand()\n",
    "test_cave.grid"
   ]
  },
  {
   "cell_type": "code",
   "execution_count": 296,
   "metadata": {},
   "outputs": [
    {
     "data": {
      "text/plain": [
       "((-1, 9), False, True, False)"
      ]
     },
     "execution_count": 296,
     "metadata": {},
     "output_type": "execute_result"
    }
   ],
   "source": [
    "test_cave.drop_sand()"
   ]
  },
  {
   "cell_type": "code",
   "execution_count": 297,
   "metadata": {},
   "outputs": [
    {
     "data": {
      "text/plain": [
       "(171, 70)"
      ]
     },
     "execution_count": 297,
     "metadata": {},
     "output_type": "execute_result"
    }
   ],
   "source": [
    "cave = Cave(input)\n",
    "cave.grid.shape"
   ]
  },
  {
   "cell_type": "code",
   "execution_count": 298,
   "metadata": {},
   "outputs": [],
   "source": [
    "def p1(cave: Cave):\n",
    "    spilled = False\n",
    "    while not spilled:\n",
    "        _coords, _came_to_rest, spilled, _clogged = cave.drop_sand()\n",
    "    return cave.sand_units"
   ]
  },
  {
   "cell_type": "code",
   "execution_count": 299,
   "metadata": {},
   "outputs": [
    {
     "data": {
      "text/plain": [
       "array([[ 0,  0,  0,  0,  0,  0,  0,  0,  0,  0],\n",
       "       [ 0,  0,  0,  0,  0,  0,  0,  0,  0,  0],\n",
       "       [ 0,  0,  0,  0,  0,  0,  0,  0,  0,  0],\n",
       "       [ 0,  0,  0,  0,  0,  0,  0,  0,  0,  0],\n",
       "       [ 0,  0,  0,  0, -1,  0,  0,  0, -1, -1],\n",
       "       [ 0,  0,  0,  0, -1,  0,  0,  0, -1,  0],\n",
       "       [ 0,  0, -1, -1, -1,  0,  0,  0, -1,  0],\n",
       "       [ 0,  0,  0,  0,  0,  0,  0,  0, -1,  0],\n",
       "       [ 0,  0,  0,  0,  0,  0,  0,  0, -1,  0],\n",
       "       [-1, -1, -1, -1, -1, -1, -1, -1, -1,  0]], dtype=int32)"
      ]
     },
     "execution_count": 299,
     "metadata": {},
     "output_type": "execute_result"
    }
   ],
   "source": [
    "test_cave.reset_sand()\n",
    "test_cave.grid"
   ]
  },
  {
   "cell_type": "code",
   "execution_count": 300,
   "metadata": {},
   "outputs": [],
   "source": [
    "assert p1(test_cave) == 24"
   ]
  },
  {
   "cell_type": "code",
   "execution_count": 301,
   "metadata": {},
   "outputs": [],
   "source": [
    "assert p1(cave) == 832"
   ]
  },
  {
   "cell_type": "code",
   "execution_count": 302,
   "metadata": {},
   "outputs": [],
   "source": [
    "def p2(cave: Cave):\n",
    "    paths = deepcopy(cave.paths)\n",
    "    paths.append([(cave.min_x - 1000, cave.max_y + 2), (cave.max_x + 1000, cave.max_y + 2)])\n",
    "    \n",
    "    cave_with_floor = Cave(paths, with_floor=True)\n",
    "    clogged = False\n",
    "    while not clogged:\n",
    "        _coords, _came_to_rest, _spilled, clogged = cave_with_floor.drop_sand()\n",
    "    return cave.sand_units"
   ]
  },
  {
   "cell_type": "code",
   "execution_count": 305,
   "metadata": {},
   "outputs": [
    {
     "data": {
      "text/plain": [
       "array([[ 0,  0,  0, ...,  0,  0,  0],\n",
       "       [ 0,  0,  0, ...,  0,  0,  0],\n",
       "       [ 0,  0,  0, ...,  0,  0,  0],\n",
       "       ...,\n",
       "       [ 0,  0,  0, ...,  0,  0,  0],\n",
       "       [ 0,  0,  0, ...,  0,  0,  0],\n",
       "       [-1, -1, -1, ..., -1, -1, -1]], dtype=int32)"
      ]
     },
     "execution_count": 305,
     "metadata": {},
     "output_type": "execute_result"
    }
   ],
   "source": [
    "paths = deepcopy(test_cave.paths)\n",
    "paths.append([(test_cave.min_x - 1000, test_cave.max_y + 2), (test_cave.max_x + 1000, test_cave.max_y + 2)])\n",
    "test_cave_with_floor = Cave(paths, with_floor=True)\n",
    "test_cave_with_floor.grid"
   ]
  },
  {
   "cell_type": "code",
   "execution_count": 318,
   "metadata": {},
   "outputs": [
    {
     "data": {
      "text/plain": [
       "[[(498, 4), (498, 6), (496, 6)],\n",
       " [(503, 4), (502, 4), (502, 9), (494, 9)],\n",
       " [(-506, 11), (1503, 11)]]"
      ]
     },
     "execution_count": 318,
     "metadata": {},
     "output_type": "execute_result"
    }
   ],
   "source": [
    "test_cave_with_floor.paths"
   ]
  },
  {
   "cell_type": "code",
   "execution_count": 322,
   "metadata": {},
   "outputs": [
    {
     "data": {
      "text/plain": [
       "array([[ 0,  0, -1, -1, -1,  0,  0,  0, -1,  0],\n",
       "       [ 0,  0,  0,  0,  0,  0,  0,  0, -1,  0],\n",
       "       [ 0,  0,  0,  0,  0,  0,  0,  0, -1,  0],\n",
       "       [-1, -1, -1, -1, -1, -1, -1, -1, -1,  0],\n",
       "       [ 0,  0,  0,  0,  0,  0,  0,  0,  0,  0],\n",
       "       [-1, -1, -1, -1, -1, -1, -1, -1, -1, -1]], dtype=int32)"
      ]
     },
     "execution_count": 322,
     "metadata": {},
     "output_type": "execute_result"
    }
   ],
   "source": [
    "test_cave_with_floor.grid[-6:, 1000:1010]"
   ]
  },
  {
   "cell_type": "code",
   "execution_count": 303,
   "metadata": {},
   "outputs": [
    {
     "data": {
      "text/plain": [
       "24"
      ]
     },
     "execution_count": 303,
     "metadata": {},
     "output_type": "execute_result"
    }
   ],
   "source": [
    "p2(test_cave)"
   ]
  },
  {
   "cell_type": "code",
   "execution_count": null,
   "metadata": {},
   "outputs": [
    {
     "data": {
      "application/vnd.plotly.v1+json": {
       "config": {
        "plotlyServerURL": "https://plot.ly"
       },
       "data": [
        {
         "hovertemplate": "x=%{x}<br>y=%{y}<extra></extra>",
         "legendgroup": "",
         "marker": {
          "color": "#636efa",
          "symbol": "circle"
         },
         "mode": "markers",
         "name": "",
         "orientation": "v",
         "showlegend": false,
         "type": "scatter",
         "x": [
          6,
          5,
          6,
          7,
          4,
          5,
          6,
          7,
          8,
          9,
          3,
          4,
          5,
          6,
          7,
          8,
          2,
          3,
          4,
          5,
          6,
          7,
          8,
          4,
          5,
          6,
          7,
          8,
          1,
          3,
          4,
          5,
          6,
          7,
          8,
          0,
          1,
          2,
          3,
          4,
          5,
          6,
          7,
          8
         ],
         "xaxis": "x",
         "y": [
          -2,
          -3,
          -3,
          -3,
          -4,
          -4,
          -4,
          -4,
          -4,
          -4,
          -5,
          -5,
          -5,
          -5,
          -5,
          -5,
          -6,
          -6,
          -6,
          -6,
          -6,
          -6,
          -6,
          -7,
          -7,
          -7,
          -7,
          -7,
          -8,
          -8,
          -8,
          -8,
          -8,
          -8,
          -8,
          -9,
          -9,
          -9,
          -9,
          -9,
          -9,
          -9,
          -9,
          -9
         ],
         "yaxis": "y"
        }
       ],
       "layout": {
        "legend": {
         "tracegroupgap": 0
        },
        "margin": {
         "t": 60
        },
        "template": {
         "data": {
          "bar": [
           {
            "error_x": {
             "color": "#2a3f5f"
            },
            "error_y": {
             "color": "#2a3f5f"
            },
            "marker": {
             "line": {
              "color": "#E5ECF6",
              "width": 0.5
             },
             "pattern": {
              "fillmode": "overlay",
              "size": 10,
              "solidity": 0.2
             }
            },
            "type": "bar"
           }
          ],
          "barpolar": [
           {
            "marker": {
             "line": {
              "color": "#E5ECF6",
              "width": 0.5
             },
             "pattern": {
              "fillmode": "overlay",
              "size": 10,
              "solidity": 0.2
             }
            },
            "type": "barpolar"
           }
          ],
          "carpet": [
           {
            "aaxis": {
             "endlinecolor": "#2a3f5f",
             "gridcolor": "white",
             "linecolor": "white",
             "minorgridcolor": "white",
             "startlinecolor": "#2a3f5f"
            },
            "baxis": {
             "endlinecolor": "#2a3f5f",
             "gridcolor": "white",
             "linecolor": "white",
             "minorgridcolor": "white",
             "startlinecolor": "#2a3f5f"
            },
            "type": "carpet"
           }
          ],
          "choropleth": [
           {
            "colorbar": {
             "outlinewidth": 0,
             "ticks": ""
            },
            "type": "choropleth"
           }
          ],
          "contour": [
           {
            "colorbar": {
             "outlinewidth": 0,
             "ticks": ""
            },
            "colorscale": [
             [
              0,
              "#0d0887"
             ],
             [
              0.1111111111111111,
              "#46039f"
             ],
             [
              0.2222222222222222,
              "#7201a8"
             ],
             [
              0.3333333333333333,
              "#9c179e"
             ],
             [
              0.4444444444444444,
              "#bd3786"
             ],
             [
              0.5555555555555556,
              "#d8576b"
             ],
             [
              0.6666666666666666,
              "#ed7953"
             ],
             [
              0.7777777777777778,
              "#fb9f3a"
             ],
             [
              0.8888888888888888,
              "#fdca26"
             ],
             [
              1,
              "#f0f921"
             ]
            ],
            "type": "contour"
           }
          ],
          "contourcarpet": [
           {
            "colorbar": {
             "outlinewidth": 0,
             "ticks": ""
            },
            "type": "contourcarpet"
           }
          ],
          "heatmap": [
           {
            "colorbar": {
             "outlinewidth": 0,
             "ticks": ""
            },
            "colorscale": [
             [
              0,
              "#0d0887"
             ],
             [
              0.1111111111111111,
              "#46039f"
             ],
             [
              0.2222222222222222,
              "#7201a8"
             ],
             [
              0.3333333333333333,
              "#9c179e"
             ],
             [
              0.4444444444444444,
              "#bd3786"
             ],
             [
              0.5555555555555556,
              "#d8576b"
             ],
             [
              0.6666666666666666,
              "#ed7953"
             ],
             [
              0.7777777777777778,
              "#fb9f3a"
             ],
             [
              0.8888888888888888,
              "#fdca26"
             ],
             [
              1,
              "#f0f921"
             ]
            ],
            "type": "heatmap"
           }
          ],
          "heatmapgl": [
           {
            "colorbar": {
             "outlinewidth": 0,
             "ticks": ""
            },
            "colorscale": [
             [
              0,
              "#0d0887"
             ],
             [
              0.1111111111111111,
              "#46039f"
             ],
             [
              0.2222222222222222,
              "#7201a8"
             ],
             [
              0.3333333333333333,
              "#9c179e"
             ],
             [
              0.4444444444444444,
              "#bd3786"
             ],
             [
              0.5555555555555556,
              "#d8576b"
             ],
             [
              0.6666666666666666,
              "#ed7953"
             ],
             [
              0.7777777777777778,
              "#fb9f3a"
             ],
             [
              0.8888888888888888,
              "#fdca26"
             ],
             [
              1,
              "#f0f921"
             ]
            ],
            "type": "heatmapgl"
           }
          ],
          "histogram": [
           {
            "marker": {
             "pattern": {
              "fillmode": "overlay",
              "size": 10,
              "solidity": 0.2
             }
            },
            "type": "histogram"
           }
          ],
          "histogram2d": [
           {
            "colorbar": {
             "outlinewidth": 0,
             "ticks": ""
            },
            "colorscale": [
             [
              0,
              "#0d0887"
             ],
             [
              0.1111111111111111,
              "#46039f"
             ],
             [
              0.2222222222222222,
              "#7201a8"
             ],
             [
              0.3333333333333333,
              "#9c179e"
             ],
             [
              0.4444444444444444,
              "#bd3786"
             ],
             [
              0.5555555555555556,
              "#d8576b"
             ],
             [
              0.6666666666666666,
              "#ed7953"
             ],
             [
              0.7777777777777778,
              "#fb9f3a"
             ],
             [
              0.8888888888888888,
              "#fdca26"
             ],
             [
              1,
              "#f0f921"
             ]
            ],
            "type": "histogram2d"
           }
          ],
          "histogram2dcontour": [
           {
            "colorbar": {
             "outlinewidth": 0,
             "ticks": ""
            },
            "colorscale": [
             [
              0,
              "#0d0887"
             ],
             [
              0.1111111111111111,
              "#46039f"
             ],
             [
              0.2222222222222222,
              "#7201a8"
             ],
             [
              0.3333333333333333,
              "#9c179e"
             ],
             [
              0.4444444444444444,
              "#bd3786"
             ],
             [
              0.5555555555555556,
              "#d8576b"
             ],
             [
              0.6666666666666666,
              "#ed7953"
             ],
             [
              0.7777777777777778,
              "#fb9f3a"
             ],
             [
              0.8888888888888888,
              "#fdca26"
             ],
             [
              1,
              "#f0f921"
             ]
            ],
            "type": "histogram2dcontour"
           }
          ],
          "mesh3d": [
           {
            "colorbar": {
             "outlinewidth": 0,
             "ticks": ""
            },
            "type": "mesh3d"
           }
          ],
          "parcoords": [
           {
            "line": {
             "colorbar": {
              "outlinewidth": 0,
              "ticks": ""
             }
            },
            "type": "parcoords"
           }
          ],
          "pie": [
           {
            "automargin": true,
            "type": "pie"
           }
          ],
          "scatter": [
           {
            "fillpattern": {
             "fillmode": "overlay",
             "size": 10,
             "solidity": 0.2
            },
            "type": "scatter"
           }
          ],
          "scatter3d": [
           {
            "line": {
             "colorbar": {
              "outlinewidth": 0,
              "ticks": ""
             }
            },
            "marker": {
             "colorbar": {
              "outlinewidth": 0,
              "ticks": ""
             }
            },
            "type": "scatter3d"
           }
          ],
          "scattercarpet": [
           {
            "marker": {
             "colorbar": {
              "outlinewidth": 0,
              "ticks": ""
             }
            },
            "type": "scattercarpet"
           }
          ],
          "scattergeo": [
           {
            "marker": {
             "colorbar": {
              "outlinewidth": 0,
              "ticks": ""
             }
            },
            "type": "scattergeo"
           }
          ],
          "scattergl": [
           {
            "marker": {
             "colorbar": {
              "outlinewidth": 0,
              "ticks": ""
             }
            },
            "type": "scattergl"
           }
          ],
          "scattermapbox": [
           {
            "marker": {
             "colorbar": {
              "outlinewidth": 0,
              "ticks": ""
             }
            },
            "type": "scattermapbox"
           }
          ],
          "scatterpolar": [
           {
            "marker": {
             "colorbar": {
              "outlinewidth": 0,
              "ticks": ""
             }
            },
            "type": "scatterpolar"
           }
          ],
          "scatterpolargl": [
           {
            "marker": {
             "colorbar": {
              "outlinewidth": 0,
              "ticks": ""
             }
            },
            "type": "scatterpolargl"
           }
          ],
          "scatterternary": [
           {
            "marker": {
             "colorbar": {
              "outlinewidth": 0,
              "ticks": ""
             }
            },
            "type": "scatterternary"
           }
          ],
          "surface": [
           {
            "colorbar": {
             "outlinewidth": 0,
             "ticks": ""
            },
            "colorscale": [
             [
              0,
              "#0d0887"
             ],
             [
              0.1111111111111111,
              "#46039f"
             ],
             [
              0.2222222222222222,
              "#7201a8"
             ],
             [
              0.3333333333333333,
              "#9c179e"
             ],
             [
              0.4444444444444444,
              "#bd3786"
             ],
             [
              0.5555555555555556,
              "#d8576b"
             ],
             [
              0.6666666666666666,
              "#ed7953"
             ],
             [
              0.7777777777777778,
              "#fb9f3a"
             ],
             [
              0.8888888888888888,
              "#fdca26"
             ],
             [
              1,
              "#f0f921"
             ]
            ],
            "type": "surface"
           }
          ],
          "table": [
           {
            "cells": {
             "fill": {
              "color": "#EBF0F8"
             },
             "line": {
              "color": "white"
             }
            },
            "header": {
             "fill": {
              "color": "#C8D4E3"
             },
             "line": {
              "color": "white"
             }
            },
            "type": "table"
           }
          ]
         },
         "layout": {
          "annotationdefaults": {
           "arrowcolor": "#2a3f5f",
           "arrowhead": 0,
           "arrowwidth": 1
          },
          "autotypenumbers": "strict",
          "coloraxis": {
           "colorbar": {
            "outlinewidth": 0,
            "ticks": ""
           }
          },
          "colorscale": {
           "diverging": [
            [
             0,
             "#8e0152"
            ],
            [
             0.1,
             "#c51b7d"
            ],
            [
             0.2,
             "#de77ae"
            ],
            [
             0.3,
             "#f1b6da"
            ],
            [
             0.4,
             "#fde0ef"
            ],
            [
             0.5,
             "#f7f7f7"
            ],
            [
             0.6,
             "#e6f5d0"
            ],
            [
             0.7,
             "#b8e186"
            ],
            [
             0.8,
             "#7fbc41"
            ],
            [
             0.9,
             "#4d9221"
            ],
            [
             1,
             "#276419"
            ]
           ],
           "sequential": [
            [
             0,
             "#0d0887"
            ],
            [
             0.1111111111111111,
             "#46039f"
            ],
            [
             0.2222222222222222,
             "#7201a8"
            ],
            [
             0.3333333333333333,
             "#9c179e"
            ],
            [
             0.4444444444444444,
             "#bd3786"
            ],
            [
             0.5555555555555556,
             "#d8576b"
            ],
            [
             0.6666666666666666,
             "#ed7953"
            ],
            [
             0.7777777777777778,
             "#fb9f3a"
            ],
            [
             0.8888888888888888,
             "#fdca26"
            ],
            [
             1,
             "#f0f921"
            ]
           ],
           "sequentialminus": [
            [
             0,
             "#0d0887"
            ],
            [
             0.1111111111111111,
             "#46039f"
            ],
            [
             0.2222222222222222,
             "#7201a8"
            ],
            [
             0.3333333333333333,
             "#9c179e"
            ],
            [
             0.4444444444444444,
             "#bd3786"
            ],
            [
             0.5555555555555556,
             "#d8576b"
            ],
            [
             0.6666666666666666,
             "#ed7953"
            ],
            [
             0.7777777777777778,
             "#fb9f3a"
            ],
            [
             0.8888888888888888,
             "#fdca26"
            ],
            [
             1,
             "#f0f921"
            ]
           ]
          },
          "colorway": [
           "#636efa",
           "#EF553B",
           "#00cc96",
           "#ab63fa",
           "#FFA15A",
           "#19d3f3",
           "#FF6692",
           "#B6E880",
           "#FF97FF",
           "#FECB52"
          ],
          "font": {
           "color": "#2a3f5f"
          },
          "geo": {
           "bgcolor": "white",
           "lakecolor": "white",
           "landcolor": "#E5ECF6",
           "showlakes": true,
           "showland": true,
           "subunitcolor": "white"
          },
          "hoverlabel": {
           "align": "left"
          },
          "hovermode": "closest",
          "mapbox": {
           "style": "light"
          },
          "paper_bgcolor": "white",
          "plot_bgcolor": "#E5ECF6",
          "polar": {
           "angularaxis": {
            "gridcolor": "white",
            "linecolor": "white",
            "ticks": ""
           },
           "bgcolor": "#E5ECF6",
           "radialaxis": {
            "gridcolor": "white",
            "linecolor": "white",
            "ticks": ""
           }
          },
          "scene": {
           "xaxis": {
            "backgroundcolor": "#E5ECF6",
            "gridcolor": "white",
            "gridwidth": 2,
            "linecolor": "white",
            "showbackground": true,
            "ticks": "",
            "zerolinecolor": "white"
           },
           "yaxis": {
            "backgroundcolor": "#E5ECF6",
            "gridcolor": "white",
            "gridwidth": 2,
            "linecolor": "white",
            "showbackground": true,
            "ticks": "",
            "zerolinecolor": "white"
           },
           "zaxis": {
            "backgroundcolor": "#E5ECF6",
            "gridcolor": "white",
            "gridwidth": 2,
            "linecolor": "white",
            "showbackground": true,
            "ticks": "",
            "zerolinecolor": "white"
           }
          },
          "shapedefaults": {
           "line": {
            "color": "#2a3f5f"
           }
          },
          "ternary": {
           "aaxis": {
            "gridcolor": "white",
            "linecolor": "white",
            "ticks": ""
           },
           "baxis": {
            "gridcolor": "white",
            "linecolor": "white",
            "ticks": ""
           },
           "bgcolor": "#E5ECF6",
           "caxis": {
            "gridcolor": "white",
            "linecolor": "white",
            "ticks": ""
           }
          },
          "title": {
           "x": 0.05
          },
          "xaxis": {
           "automargin": true,
           "gridcolor": "white",
           "linecolor": "white",
           "ticks": "",
           "title": {
            "standoff": 15
           },
           "zerolinecolor": "white",
           "zerolinewidth": 2
          },
          "yaxis": {
           "automargin": true,
           "gridcolor": "white",
           "linecolor": "white",
           "ticks": "",
           "title": {
            "standoff": 15
           },
           "zerolinecolor": "white",
           "zerolinewidth": 2
          }
         }
        },
        "xaxis": {
         "anchor": "y",
         "domain": [
          0,
          1
         ],
         "title": {
          "text": "x"
         }
        },
        "yaxis": {
         "anchor": "x",
         "domain": [
          0,
          1
         ],
         "title": {
          "text": "y"
         }
        }
       }
      },
      "text/html": [
       "<div>                            <div id=\"aef1bcab-4c55-4d24-9799-001e14a75fb0\" class=\"plotly-graph-div\" style=\"height:525px; width:100%;\"></div>            <script type=\"text/javascript\">                require([\"plotly\"], function(Plotly) {                    window.PLOTLYENV=window.PLOTLYENV || {};                                    if (document.getElementById(\"aef1bcab-4c55-4d24-9799-001e14a75fb0\")) {                    Plotly.newPlot(                        \"aef1bcab-4c55-4d24-9799-001e14a75fb0\",                        [{\"hovertemplate\":\"x=%{x}<br>y=%{y}<extra></extra>\",\"legendgroup\":\"\",\"marker\":{\"color\":\"#636efa\",\"symbol\":\"circle\"},\"mode\":\"markers\",\"name\":\"\",\"orientation\":\"v\",\"showlegend\":false,\"x\":[6,5,6,7,4,5,6,7,8,9,3,4,5,6,7,8,2,3,4,5,6,7,8,4,5,6,7,8,1,3,4,5,6,7,8,0,1,2,3,4,5,6,7,8],\"xaxis\":\"x\",\"y\":[-2,-3,-3,-3,-4,-4,-4,-4,-4,-4,-5,-5,-5,-5,-5,-5,-6,-6,-6,-6,-6,-6,-6,-7,-7,-7,-7,-7,-8,-8,-8,-8,-8,-8,-8,-9,-9,-9,-9,-9,-9,-9,-9,-9],\"yaxis\":\"y\",\"type\":\"scatter\"}],                        {\"template\":{\"data\":{\"histogram2dcontour\":[{\"type\":\"histogram2dcontour\",\"colorbar\":{\"outlinewidth\":0,\"ticks\":\"\"},\"colorscale\":[[0.0,\"#0d0887\"],[0.1111111111111111,\"#46039f\"],[0.2222222222222222,\"#7201a8\"],[0.3333333333333333,\"#9c179e\"],[0.4444444444444444,\"#bd3786\"],[0.5555555555555556,\"#d8576b\"],[0.6666666666666666,\"#ed7953\"],[0.7777777777777778,\"#fb9f3a\"],[0.8888888888888888,\"#fdca26\"],[1.0,\"#f0f921\"]]}],\"choropleth\":[{\"type\":\"choropleth\",\"colorbar\":{\"outlinewidth\":0,\"ticks\":\"\"}}],\"histogram2d\":[{\"type\":\"histogram2d\",\"colorbar\":{\"outlinewidth\":0,\"ticks\":\"\"},\"colorscale\":[[0.0,\"#0d0887\"],[0.1111111111111111,\"#46039f\"],[0.2222222222222222,\"#7201a8\"],[0.3333333333333333,\"#9c179e\"],[0.4444444444444444,\"#bd3786\"],[0.5555555555555556,\"#d8576b\"],[0.6666666666666666,\"#ed7953\"],[0.7777777777777778,\"#fb9f3a\"],[0.8888888888888888,\"#fdca26\"],[1.0,\"#f0f921\"]]}],\"heatmap\":[{\"type\":\"heatmap\",\"colorbar\":{\"outlinewidth\":0,\"ticks\":\"\"},\"colorscale\":[[0.0,\"#0d0887\"],[0.1111111111111111,\"#46039f\"],[0.2222222222222222,\"#7201a8\"],[0.3333333333333333,\"#9c179e\"],[0.4444444444444444,\"#bd3786\"],[0.5555555555555556,\"#d8576b\"],[0.6666666666666666,\"#ed7953\"],[0.7777777777777778,\"#fb9f3a\"],[0.8888888888888888,\"#fdca26\"],[1.0,\"#f0f921\"]]}],\"heatmapgl\":[{\"type\":\"heatmapgl\",\"colorbar\":{\"outlinewidth\":0,\"ticks\":\"\"},\"colorscale\":[[0.0,\"#0d0887\"],[0.1111111111111111,\"#46039f\"],[0.2222222222222222,\"#7201a8\"],[0.3333333333333333,\"#9c179e\"],[0.4444444444444444,\"#bd3786\"],[0.5555555555555556,\"#d8576b\"],[0.6666666666666666,\"#ed7953\"],[0.7777777777777778,\"#fb9f3a\"],[0.8888888888888888,\"#fdca26\"],[1.0,\"#f0f921\"]]}],\"contourcarpet\":[{\"type\":\"contourcarpet\",\"colorbar\":{\"outlinewidth\":0,\"ticks\":\"\"}}],\"contour\":[{\"type\":\"contour\",\"colorbar\":{\"outlinewidth\":0,\"ticks\":\"\"},\"colorscale\":[[0.0,\"#0d0887\"],[0.1111111111111111,\"#46039f\"],[0.2222222222222222,\"#7201a8\"],[0.3333333333333333,\"#9c179e\"],[0.4444444444444444,\"#bd3786\"],[0.5555555555555556,\"#d8576b\"],[0.6666666666666666,\"#ed7953\"],[0.7777777777777778,\"#fb9f3a\"],[0.8888888888888888,\"#fdca26\"],[1.0,\"#f0f921\"]]}],\"surface\":[{\"type\":\"surface\",\"colorbar\":{\"outlinewidth\":0,\"ticks\":\"\"},\"colorscale\":[[0.0,\"#0d0887\"],[0.1111111111111111,\"#46039f\"],[0.2222222222222222,\"#7201a8\"],[0.3333333333333333,\"#9c179e\"],[0.4444444444444444,\"#bd3786\"],[0.5555555555555556,\"#d8576b\"],[0.6666666666666666,\"#ed7953\"],[0.7777777777777778,\"#fb9f3a\"],[0.8888888888888888,\"#fdca26\"],[1.0,\"#f0f921\"]]}],\"mesh3d\":[{\"type\":\"mesh3d\",\"colorbar\":{\"outlinewidth\":0,\"ticks\":\"\"}}],\"scatter\":[{\"fillpattern\":{\"fillmode\":\"overlay\",\"size\":10,\"solidity\":0.2},\"type\":\"scatter\"}],\"parcoords\":[{\"type\":\"parcoords\",\"line\":{\"colorbar\":{\"outlinewidth\":0,\"ticks\":\"\"}}}],\"scatterpolargl\":[{\"type\":\"scatterpolargl\",\"marker\":{\"colorbar\":{\"outlinewidth\":0,\"ticks\":\"\"}}}],\"bar\":[{\"error_x\":{\"color\":\"#2a3f5f\"},\"error_y\":{\"color\":\"#2a3f5f\"},\"marker\":{\"line\":{\"color\":\"#E5ECF6\",\"width\":0.5},\"pattern\":{\"fillmode\":\"overlay\",\"size\":10,\"solidity\":0.2}},\"type\":\"bar\"}],\"scattergeo\":[{\"type\":\"scattergeo\",\"marker\":{\"colorbar\":{\"outlinewidth\":0,\"ticks\":\"\"}}}],\"scatterpolar\":[{\"type\":\"scatterpolar\",\"marker\":{\"colorbar\":{\"outlinewidth\":0,\"ticks\":\"\"}}}],\"histogram\":[{\"marker\":{\"pattern\":{\"fillmode\":\"overlay\",\"size\":10,\"solidity\":0.2}},\"type\":\"histogram\"}],\"scattergl\":[{\"type\":\"scattergl\",\"marker\":{\"colorbar\":{\"outlinewidth\":0,\"ticks\":\"\"}}}],\"scatter3d\":[{\"type\":\"scatter3d\",\"line\":{\"colorbar\":{\"outlinewidth\":0,\"ticks\":\"\"}},\"marker\":{\"colorbar\":{\"outlinewidth\":0,\"ticks\":\"\"}}}],\"scattermapbox\":[{\"type\":\"scattermapbox\",\"marker\":{\"colorbar\":{\"outlinewidth\":0,\"ticks\":\"\"}}}],\"scatterternary\":[{\"type\":\"scatterternary\",\"marker\":{\"colorbar\":{\"outlinewidth\":0,\"ticks\":\"\"}}}],\"scattercarpet\":[{\"type\":\"scattercarpet\",\"marker\":{\"colorbar\":{\"outlinewidth\":0,\"ticks\":\"\"}}}],\"carpet\":[{\"aaxis\":{\"endlinecolor\":\"#2a3f5f\",\"gridcolor\":\"white\",\"linecolor\":\"white\",\"minorgridcolor\":\"white\",\"startlinecolor\":\"#2a3f5f\"},\"baxis\":{\"endlinecolor\":\"#2a3f5f\",\"gridcolor\":\"white\",\"linecolor\":\"white\",\"minorgridcolor\":\"white\",\"startlinecolor\":\"#2a3f5f\"},\"type\":\"carpet\"}],\"table\":[{\"cells\":{\"fill\":{\"color\":\"#EBF0F8\"},\"line\":{\"color\":\"white\"}},\"header\":{\"fill\":{\"color\":\"#C8D4E3\"},\"line\":{\"color\":\"white\"}},\"type\":\"table\"}],\"barpolar\":[{\"marker\":{\"line\":{\"color\":\"#E5ECF6\",\"width\":0.5},\"pattern\":{\"fillmode\":\"overlay\",\"size\":10,\"solidity\":0.2}},\"type\":\"barpolar\"}],\"pie\":[{\"automargin\":true,\"type\":\"pie\"}]},\"layout\":{\"autotypenumbers\":\"strict\",\"colorway\":[\"#636efa\",\"#EF553B\",\"#00cc96\",\"#ab63fa\",\"#FFA15A\",\"#19d3f3\",\"#FF6692\",\"#B6E880\",\"#FF97FF\",\"#FECB52\"],\"font\":{\"color\":\"#2a3f5f\"},\"hovermode\":\"closest\",\"hoverlabel\":{\"align\":\"left\"},\"paper_bgcolor\":\"white\",\"plot_bgcolor\":\"#E5ECF6\",\"polar\":{\"bgcolor\":\"#E5ECF6\",\"angularaxis\":{\"gridcolor\":\"white\",\"linecolor\":\"white\",\"ticks\":\"\"},\"radialaxis\":{\"gridcolor\":\"white\",\"linecolor\":\"white\",\"ticks\":\"\"}},\"ternary\":{\"bgcolor\":\"#E5ECF6\",\"aaxis\":{\"gridcolor\":\"white\",\"linecolor\":\"white\",\"ticks\":\"\"},\"baxis\":{\"gridcolor\":\"white\",\"linecolor\":\"white\",\"ticks\":\"\"},\"caxis\":{\"gridcolor\":\"white\",\"linecolor\":\"white\",\"ticks\":\"\"}},\"coloraxis\":{\"colorbar\":{\"outlinewidth\":0,\"ticks\":\"\"}},\"colorscale\":{\"sequential\":[[0.0,\"#0d0887\"],[0.1111111111111111,\"#46039f\"],[0.2222222222222222,\"#7201a8\"],[0.3333333333333333,\"#9c179e\"],[0.4444444444444444,\"#bd3786\"],[0.5555555555555556,\"#d8576b\"],[0.6666666666666666,\"#ed7953\"],[0.7777777777777778,\"#fb9f3a\"],[0.8888888888888888,\"#fdca26\"],[1.0,\"#f0f921\"]],\"sequentialminus\":[[0.0,\"#0d0887\"],[0.1111111111111111,\"#46039f\"],[0.2222222222222222,\"#7201a8\"],[0.3333333333333333,\"#9c179e\"],[0.4444444444444444,\"#bd3786\"],[0.5555555555555556,\"#d8576b\"],[0.6666666666666666,\"#ed7953\"],[0.7777777777777778,\"#fb9f3a\"],[0.8888888888888888,\"#fdca26\"],[1.0,\"#f0f921\"]],\"diverging\":[[0,\"#8e0152\"],[0.1,\"#c51b7d\"],[0.2,\"#de77ae\"],[0.3,\"#f1b6da\"],[0.4,\"#fde0ef\"],[0.5,\"#f7f7f7\"],[0.6,\"#e6f5d0\"],[0.7,\"#b8e186\"],[0.8,\"#7fbc41\"],[0.9,\"#4d9221\"],[1,\"#276419\"]]},\"xaxis\":{\"gridcolor\":\"white\",\"linecolor\":\"white\",\"ticks\":\"\",\"title\":{\"standoff\":15},\"zerolinecolor\":\"white\",\"automargin\":true,\"zerolinewidth\":2},\"yaxis\":{\"gridcolor\":\"white\",\"linecolor\":\"white\",\"ticks\":\"\",\"title\":{\"standoff\":15},\"zerolinecolor\":\"white\",\"automargin\":true,\"zerolinewidth\":2},\"scene\":{\"xaxis\":{\"backgroundcolor\":\"#E5ECF6\",\"gridcolor\":\"white\",\"linecolor\":\"white\",\"showbackground\":true,\"ticks\":\"\",\"zerolinecolor\":\"white\",\"gridwidth\":2},\"yaxis\":{\"backgroundcolor\":\"#E5ECF6\",\"gridcolor\":\"white\",\"linecolor\":\"white\",\"showbackground\":true,\"ticks\":\"\",\"zerolinecolor\":\"white\",\"gridwidth\":2},\"zaxis\":{\"backgroundcolor\":\"#E5ECF6\",\"gridcolor\":\"white\",\"linecolor\":\"white\",\"showbackground\":true,\"ticks\":\"\",\"zerolinecolor\":\"white\",\"gridwidth\":2}},\"shapedefaults\":{\"line\":{\"color\":\"#2a3f5f\"}},\"annotationdefaults\":{\"arrowcolor\":\"#2a3f5f\",\"arrowhead\":0,\"arrowwidth\":1},\"geo\":{\"bgcolor\":\"white\",\"landcolor\":\"#E5ECF6\",\"subunitcolor\":\"white\",\"showland\":true,\"showlakes\":true,\"lakecolor\":\"white\"},\"title\":{\"x\":0.05},\"mapbox\":{\"style\":\"light\"}}},\"xaxis\":{\"anchor\":\"y\",\"domain\":[0.0,1.0],\"title\":{\"text\":\"x\"}},\"yaxis\":{\"anchor\":\"x\",\"domain\":[0.0,1.0],\"title\":{\"text\":\"y\"}},\"legend\":{\"tracegroupgap\":0},\"margin\":{\"t\":60}},                        {\"responsive\": true}                    ).then(function(){\n",
       "                            \n",
       "var gd = document.getElementById('aef1bcab-4c55-4d24-9799-001e14a75fb0');\n",
       "var x = new MutationObserver(function (mutations, observer) {{\n",
       "        var display = window.getComputedStyle(gd).display;\n",
       "        if (!display || display === 'none') {{\n",
       "            console.log([gd, 'removed!']);\n",
       "            Plotly.purge(gd);\n",
       "            observer.disconnect();\n",
       "        }}\n",
       "}});\n",
       "\n",
       "// Listen for the removal of the full notebook cells\n",
       "var notebookContainer = gd.closest('#notebook-container');\n",
       "if (notebookContainer) {{\n",
       "    x.observe(notebookContainer, {childList: true});\n",
       "}}\n",
       "\n",
       "// Listen for the clearing of the current output cell\n",
       "var outputEl = gd.closest('.output');\n",
       "if (outputEl) {{\n",
       "    x.observe(outputEl, {childList: true});\n",
       "}}\n",
       "\n",
       "                        })                };                });            </script>        </div>"
      ]
     },
     "metadata": {},
     "output_type": "display_data"
    }
   ],
   "source": [
    "px.scatter(\n",
    "    x=test_cave.walls()[0], \n",
    "    y=-test_cave.walls()[1]\n",
    ")"
   ]
  },
  {
   "cell_type": "code",
   "execution_count": null,
   "metadata": {},
   "outputs": [
    {
     "data": {
      "application/vnd.plotly.v1+json": {
       "config": {
        "plotlyServerURL": "https://plot.ly"
       },
       "data": [
        {
         "hovertemplate": "x=%{x}<br>y=%{y}<extra></extra>",
         "legendgroup": "",
         "marker": {
          "color": "#636efa",
          "symbol": "circle"
         },
         "mode": "markers",
         "name": "",
         "showlegend": false,
         "type": "scattergl",
         "x": [
          39,
          40,
          38,
          39,
          40,
          41,
          37,
          38,
          39,
          40,
          41,
          42,
          36,
          37,
          38,
          39,
          40,
          41,
          42,
          43,
          30,
          35,
          36,
          37,
          38,
          39,
          40,
          41,
          42,
          43,
          44,
          30,
          34,
          35,
          36,
          37,
          38,
          39,
          40,
          41,
          42,
          43,
          44,
          45,
          30,
          33,
          34,
          35,
          36,
          37,
          38,
          39,
          40,
          41,
          42,
          43,
          44,
          45,
          46,
          30,
          32,
          33,
          34,
          35,
          36,
          37,
          38,
          39,
          40,
          41,
          42,
          43,
          44,
          45,
          46,
          47,
          30,
          31,
          32,
          33,
          34,
          35,
          36,
          37,
          38,
          39,
          40,
          41,
          42,
          43,
          44,
          45,
          46,
          47,
          48,
          30,
          31,
          32,
          33,
          34,
          35,
          36,
          37,
          38,
          39,
          40,
          41,
          42,
          43,
          44,
          45,
          46,
          47,
          48,
          49,
          30,
          31,
          32,
          33,
          34,
          35,
          36,
          37,
          38,
          39,
          40,
          41,
          42,
          43,
          44,
          45,
          46,
          47,
          48,
          49,
          50,
          30,
          31,
          32,
          33,
          34,
          35,
          36,
          37,
          38,
          39,
          40,
          41,
          42,
          43,
          44,
          45,
          46,
          47,
          48,
          49,
          50,
          51,
          30,
          31,
          32,
          33,
          34,
          35,
          36,
          37,
          38,
          39,
          40,
          41,
          42,
          43,
          44,
          45,
          46,
          47,
          48,
          49,
          50,
          51,
          52,
          30,
          31,
          32,
          33,
          34,
          35,
          36,
          37,
          38,
          39,
          40,
          41,
          42,
          43,
          44,
          45,
          46,
          47,
          48,
          49,
          50,
          51,
          52,
          53,
          30,
          31,
          32,
          33,
          34,
          35,
          36,
          37,
          38,
          39,
          40,
          41,
          42,
          43,
          44,
          45,
          46,
          47,
          48,
          49,
          50,
          51,
          52,
          53,
          54,
          48,
          49,
          50,
          51,
          52,
          53,
          54,
          55,
          47,
          48,
          49,
          50,
          51,
          52,
          53,
          54,
          55,
          56,
          46,
          47,
          48,
          49,
          50,
          51,
          52,
          53,
          54,
          55,
          56,
          57,
          39,
          45,
          46,
          47,
          48,
          49,
          50,
          51,
          52,
          53,
          54,
          55,
          56,
          57,
          58,
          39,
          40,
          41,
          42,
          43,
          44,
          45,
          46,
          47,
          48,
          49,
          50,
          51,
          52,
          53,
          54,
          55,
          56,
          57,
          58,
          59,
          60,
          59,
          60,
          61,
          58,
          59,
          60,
          61,
          62,
          58,
          59,
          60,
          61,
          62,
          58,
          59,
          60,
          61,
          62,
          57,
          58,
          59,
          60,
          61,
          62,
          56,
          57,
          58,
          59,
          60,
          61,
          62,
          63,
          64,
          65,
          66,
          67,
          68,
          69,
          55,
          56,
          57,
          58,
          59,
          60,
          61,
          62,
          69,
          54,
          55,
          56,
          57,
          58,
          59,
          60,
          61,
          62,
          63,
          69,
          53,
          54,
          55,
          56,
          57,
          58,
          59,
          60,
          61,
          62,
          63,
          64,
          65,
          66,
          67,
          68,
          69,
          52,
          53,
          54,
          55,
          56,
          57,
          51,
          52,
          53,
          54,
          55,
          56,
          57,
          58,
          50,
          51,
          52,
          53,
          54,
          55,
          56,
          57,
          58,
          59,
          61,
          50,
          51,
          52,
          53,
          54,
          55,
          56,
          57,
          58,
          59,
          60,
          61,
          49,
          48,
          49,
          50,
          47,
          48,
          49,
          50,
          51,
          46,
          45,
          46,
          47,
          44,
          45,
          46,
          47,
          48,
          50,
          51,
          52,
          53,
          54,
          43,
          42,
          43,
          44,
          41,
          42,
          43,
          44,
          45,
          47,
          48,
          49,
          50,
          51,
          53,
          54,
          55,
          56,
          57,
          40,
          39,
          40,
          41,
          38,
          39,
          40,
          41,
          42,
          44,
          45,
          46,
          47,
          48,
          50,
          51,
          52,
          53,
          54,
          56,
          57,
          58,
          59,
          60,
          36,
          37,
          35,
          36,
          37,
          38,
          34,
          35,
          36,
          37,
          38,
          39,
          41,
          42,
          43,
          44,
          45,
          47,
          48,
          49,
          50,
          51,
          53,
          54,
          55,
          56,
          57,
          59,
          60,
          61,
          62,
          63,
          33,
          34,
          35,
          32,
          33,
          34,
          35,
          36,
          31,
          32,
          33,
          34,
          35,
          36,
          37,
          30,
          31,
          32,
          33,
          34,
          35,
          36,
          37,
          38,
          39,
          40,
          29,
          30,
          31,
          32,
          33,
          34,
          35,
          36,
          37,
          38,
          39,
          40,
          41,
          26,
          27,
          28,
          29,
          30,
          31,
          32,
          33,
          34,
          35,
          36,
          37,
          38,
          39,
          40,
          41,
          42,
          26,
          32,
          33,
          34,
          35,
          36,
          42,
          26,
          31,
          32,
          33,
          34,
          35,
          36,
          37,
          42,
          26,
          30,
          31,
          32,
          33,
          34,
          35,
          36,
          37,
          38,
          42,
          26,
          29,
          30,
          31,
          32,
          33,
          34,
          35,
          36,
          37,
          38,
          39,
          42,
          26,
          28,
          29,
          30,
          31,
          32,
          33,
          34,
          35,
          36,
          37,
          38,
          39,
          40,
          42,
          26,
          27,
          28,
          29,
          30,
          31,
          32,
          33,
          34,
          35,
          36,
          37,
          38,
          39,
          40,
          41,
          42,
          26,
          27,
          28,
          29,
          30,
          31,
          32,
          33,
          34,
          35,
          36,
          37,
          38,
          39,
          40,
          41,
          42,
          26,
          27,
          28,
          29,
          30,
          31,
          32,
          33,
          34,
          35,
          36,
          37,
          38,
          39,
          40,
          41,
          42,
          43,
          42,
          43,
          41,
          42,
          43,
          41,
          42,
          43,
          40,
          41,
          42,
          43,
          39,
          40,
          41,
          42,
          43,
          39,
          40,
          41,
          42,
          43,
          39,
          40,
          41,
          42,
          43,
          39,
          40,
          41,
          42,
          43,
          45,
          39,
          40,
          41,
          42,
          43,
          44,
          45,
          38,
          37,
          38,
          36,
          37,
          38,
          35,
          36,
          37,
          38,
          34,
          35,
          36,
          37,
          38,
          34,
          35,
          36,
          37,
          38,
          33,
          34,
          35,
          36,
          37,
          38,
          40,
          32,
          33,
          34,
          35,
          36,
          37,
          38,
          40,
          31,
          32,
          33,
          34,
          35,
          36,
          37,
          38,
          40,
          30,
          31,
          32,
          33,
          34,
          35,
          36,
          37,
          38,
          39,
          40,
          29,
          30,
          31,
          32,
          33,
          34,
          28,
          29,
          30,
          31,
          32,
          33,
          34,
          35,
          27,
          28,
          29,
          30,
          31,
          32,
          33,
          34,
          35,
          36,
          26,
          27,
          28,
          29,
          30,
          35,
          36,
          37,
          25,
          26,
          27,
          28,
          29,
          30,
          31,
          32,
          34,
          35,
          36,
          37,
          38,
          39,
          24,
          25,
          26,
          27,
          23,
          24,
          25,
          26,
          27,
          28,
          29,
          31,
          32,
          33,
          34,
          35,
          36,
          38,
          39,
          40,
          41,
          42,
          43,
          22,
          23,
          24,
          21,
          22,
          23,
          24,
          25,
          26,
          28,
          29,
          30,
          31,
          32,
          33,
          35,
          36,
          37,
          38,
          39,
          40,
          42,
          43,
          44,
          45,
          46,
          47,
          19,
          20,
          18,
          19,
          20,
          21,
          17,
          18,
          19,
          20,
          21,
          22,
          15,
          16,
          17,
          18,
          19,
          20,
          21,
          22,
          23,
          15,
          16,
          17,
          18,
          19,
          20,
          21,
          22,
          23,
          15,
          16,
          17,
          18,
          19,
          20,
          21,
          22,
          23,
          15,
          16,
          17,
          18,
          19,
          20,
          21,
          22,
          23,
          15,
          16,
          17,
          18,
          19,
          20,
          21,
          22,
          23,
          15,
          16,
          17,
          18,
          19,
          20,
          21,
          22,
          23,
          24,
          15,
          16,
          17,
          18,
          19,
          20,
          21,
          22,
          23,
          24,
          25,
          23,
          24,
          25,
          26,
          22,
          23,
          24,
          25,
          26,
          27,
          21,
          22,
          23,
          24,
          25,
          26,
          27,
          28,
          21,
          22,
          23,
          24,
          25,
          26,
          27,
          28,
          29,
          21,
          22,
          23,
          24,
          25,
          26,
          27,
          28,
          29,
          30,
          16,
          17,
          18,
          19,
          20,
          21,
          22,
          23,
          24,
          25,
          26,
          27,
          28,
          29,
          30,
          31,
          16,
          21,
          22,
          23,
          24,
          25,
          31,
          16,
          20,
          21,
          22,
          23,
          24,
          25,
          26,
          31,
          16,
          19,
          20,
          21,
          22,
          23,
          24,
          25,
          26,
          27,
          31,
          32,
          16,
          17,
          18,
          19,
          20,
          21,
          22,
          23,
          24,
          25,
          26,
          27,
          28,
          29,
          30,
          31,
          32,
          33,
          31,
          32,
          33,
          34,
          30,
          31,
          32,
          33,
          34,
          35,
          29,
          30,
          31,
          32,
          33,
          34,
          35,
          36,
          28,
          29,
          30,
          31,
          32,
          33,
          34,
          35,
          36,
          37,
          27,
          28,
          29,
          30,
          31,
          32,
          33,
          34,
          35,
          36,
          37,
          38,
          26,
          27,
          28,
          29,
          34,
          35,
          36,
          37,
          38,
          39,
          25,
          26,
          27,
          28,
          29,
          30,
          33,
          34,
          35,
          36,
          37,
          38,
          39,
          40,
          24,
          25,
          26,
          27,
          28,
          29,
          30,
          31,
          32,
          33,
          34,
          35,
          36,
          37,
          38,
          39,
          40,
          41,
          23,
          24,
          25,
          26,
          27,
          28,
          29,
          30,
          31,
          32,
          37,
          38,
          39,
          40,
          41,
          42,
          22,
          23,
          24,
          25,
          26,
          27,
          28,
          29,
          30,
          31,
          32,
          33,
          34,
          36,
          37,
          38,
          39,
          40,
          41,
          42,
          43,
          21,
          22,
          23,
          24,
          25,
          26,
          27,
          28,
          29,
          41,
          42,
          43,
          44,
          20,
          21,
          22,
          23,
          24,
          25,
          26,
          27,
          28,
          29,
          30,
          31,
          33,
          34,
          35,
          36,
          37,
          38,
          40,
          41,
          42,
          43,
          44,
          45,
          19,
          20,
          21,
          22,
          23,
          24,
          25,
          26,
          18,
          19,
          20,
          21,
          22,
          23,
          24,
          25,
          26,
          27,
          17,
          18,
          19,
          20,
          21,
          22,
          23,
          24,
          25,
          26,
          27,
          28,
          16,
          17,
          18,
          19,
          20,
          21,
          22,
          23,
          27,
          28,
          29,
          15,
          16,
          17,
          18,
          19,
          20,
          21,
          22,
          23,
          24,
          26,
          27,
          28,
          29,
          30,
          14,
          15,
          16,
          17,
          18,
          19,
          20,
          13,
          14,
          15,
          16,
          17,
          18,
          19,
          20,
          21,
          23,
          24,
          25,
          26,
          27,
          29,
          30,
          31,
          32,
          33,
          12,
          13,
          14,
          15,
          16,
          17,
          11,
          12,
          13,
          14,
          15,
          16,
          17,
          18,
          20,
          21,
          22,
          23,
          24,
          26,
          27,
          28,
          29,
          30,
          32,
          33,
          34,
          35,
          36,
          10,
          11,
          12,
          13,
          14,
          9,
          10,
          11,
          12,
          13,
          14,
          15,
          17,
          18,
          19,
          20,
          21,
          23,
          24,
          25,
          26,
          27,
          29,
          30,
          31,
          32,
          33,
          35,
          36,
          37,
          38,
          39,
          8,
          9,
          10,
          11,
          7,
          8,
          9,
          10,
          11,
          12,
          14,
          0,
          1,
          2,
          3,
          4,
          5,
          6,
          7,
          8,
          9,
          10,
          11,
          12,
          13,
          14,
          45,
          46,
          44,
          45,
          46,
          47,
          44,
          45,
          46,
          47,
          48,
          44,
          45,
          46,
          47,
          48,
          49,
          44,
          45,
          46,
          47,
          48,
          49,
          50,
          43,
          44,
          45,
          46,
          47,
          48,
          49,
          50,
          51,
          43,
          44,
          45,
          46,
          47,
          51,
          43,
          44,
          45,
          46,
          47,
          48,
          51,
          43,
          44,
          45,
          46,
          47,
          48,
          49,
          51,
          43,
          44,
          45,
          46,
          47,
          48,
          49,
          50,
          51,
          43,
          44,
          45,
          46,
          47,
          48,
          49,
          50,
          51,
          43,
          44,
          45,
          46,
          47,
          48,
          49,
          50,
          51,
          43,
          44,
          45,
          46,
          47,
          48,
          49,
          50,
          51,
          43,
          44,
          45,
          46,
          47,
          48,
          49,
          50,
          51
         ],
         "xaxis": "x",
         "y": [
          -9,
          -9,
          -10,
          -10,
          -10,
          -10,
          -11,
          -11,
          -11,
          -11,
          -11,
          -11,
          -12,
          -12,
          -12,
          -12,
          -12,
          -12,
          -12,
          -12,
          -13,
          -13,
          -13,
          -13,
          -13,
          -13,
          -13,
          -13,
          -13,
          -13,
          -13,
          -14,
          -14,
          -14,
          -14,
          -14,
          -14,
          -14,
          -14,
          -14,
          -14,
          -14,
          -14,
          -14,
          -15,
          -15,
          -15,
          -15,
          -15,
          -15,
          -15,
          -15,
          -15,
          -15,
          -15,
          -15,
          -15,
          -15,
          -15,
          -16,
          -16,
          -16,
          -16,
          -16,
          -16,
          -16,
          -16,
          -16,
          -16,
          -16,
          -16,
          -16,
          -16,
          -16,
          -16,
          -16,
          -17,
          -17,
          -17,
          -17,
          -17,
          -17,
          -17,
          -17,
          -17,
          -17,
          -17,
          -17,
          -17,
          -17,
          -17,
          -17,
          -17,
          -17,
          -17,
          -18,
          -18,
          -18,
          -18,
          -18,
          -18,
          -18,
          -18,
          -18,
          -18,
          -18,
          -18,
          -18,
          -18,
          -18,
          -18,
          -18,
          -18,
          -18,
          -18,
          -19,
          -19,
          -19,
          -19,
          -19,
          -19,
          -19,
          -19,
          -19,
          -19,
          -19,
          -19,
          -19,
          -19,
          -19,
          -19,
          -19,
          -19,
          -19,
          -19,
          -19,
          -20,
          -20,
          -20,
          -20,
          -20,
          -20,
          -20,
          -20,
          -20,
          -20,
          -20,
          -20,
          -20,
          -20,
          -20,
          -20,
          -20,
          -20,
          -20,
          -20,
          -20,
          -20,
          -21,
          -21,
          -21,
          -21,
          -21,
          -21,
          -21,
          -21,
          -21,
          -21,
          -21,
          -21,
          -21,
          -21,
          -21,
          -21,
          -21,
          -21,
          -21,
          -21,
          -21,
          -21,
          -21,
          -22,
          -22,
          -22,
          -22,
          -22,
          -22,
          -22,
          -22,
          -22,
          -22,
          -22,
          -22,
          -22,
          -22,
          -22,
          -22,
          -22,
          -22,
          -22,
          -22,
          -22,
          -22,
          -22,
          -22,
          -23,
          -23,
          -23,
          -23,
          -23,
          -23,
          -23,
          -23,
          -23,
          -23,
          -23,
          -23,
          -23,
          -23,
          -23,
          -23,
          -23,
          -23,
          -23,
          -23,
          -23,
          -23,
          -23,
          -23,
          -23,
          -24,
          -24,
          -24,
          -24,
          -24,
          -24,
          -24,
          -24,
          -25,
          -25,
          -25,
          -25,
          -25,
          -25,
          -25,
          -25,
          -25,
          -25,
          -26,
          -26,
          -26,
          -26,
          -26,
          -26,
          -26,
          -26,
          -26,
          -26,
          -26,
          -26,
          -27,
          -27,
          -27,
          -27,
          -27,
          -27,
          -27,
          -27,
          -27,
          -27,
          -27,
          -27,
          -27,
          -27,
          -27,
          -28,
          -28,
          -28,
          -28,
          -28,
          -28,
          -28,
          -28,
          -28,
          -28,
          -28,
          -28,
          -28,
          -28,
          -28,
          -28,
          -28,
          -28,
          -28,
          -28,
          -28,
          -29,
          -30,
          -30,
          -30,
          -31,
          -31,
          -31,
          -31,
          -31,
          -32,
          -32,
          -32,
          -32,
          -32,
          -33,
          -33,
          -33,
          -33,
          -33,
          -34,
          -34,
          -34,
          -34,
          -34,
          -34,
          -35,
          -35,
          -35,
          -35,
          -35,
          -35,
          -35,
          -35,
          -35,
          -35,
          -35,
          -35,
          -35,
          -35,
          -36,
          -36,
          -36,
          -36,
          -36,
          -36,
          -36,
          -36,
          -36,
          -37,
          -37,
          -37,
          -37,
          -37,
          -37,
          -37,
          -37,
          -37,
          -37,
          -37,
          -38,
          -38,
          -38,
          -38,
          -38,
          -38,
          -38,
          -38,
          -38,
          -38,
          -38,
          -38,
          -38,
          -38,
          -38,
          -38,
          -38,
          -39,
          -39,
          -39,
          -39,
          -39,
          -39,
          -40,
          -40,
          -40,
          -40,
          -40,
          -40,
          -40,
          -40,
          -41,
          -41,
          -41,
          -41,
          -41,
          -41,
          -41,
          -41,
          -41,
          -41,
          -41,
          -42,
          -42,
          -42,
          -42,
          -42,
          -42,
          -42,
          -42,
          -42,
          -42,
          -42,
          -42,
          -43,
          -44,
          -44,
          -44,
          -45,
          -45,
          -45,
          -45,
          -45,
          -46,
          -47,
          -47,
          -47,
          -48,
          -48,
          -48,
          -48,
          -48,
          -48,
          -48,
          -48,
          -48,
          -48,
          -49,
          -50,
          -50,
          -50,
          -51,
          -51,
          -51,
          -51,
          -51,
          -51,
          -51,
          -51,
          -51,
          -51,
          -51,
          -51,
          -51,
          -51,
          -51,
          -52,
          -53,
          -53,
          -53,
          -54,
          -54,
          -54,
          -54,
          -54,
          -54,
          -54,
          -54,
          -54,
          -54,
          -54,
          -54,
          -54,
          -54,
          -54,
          -54,
          -54,
          -54,
          -54,
          -54,
          -55,
          -55,
          -56,
          -56,
          -56,
          -56,
          -57,
          -57,
          -57,
          -57,
          -57,
          -57,
          -57,
          -57,
          -57,
          -57,
          -57,
          -57,
          -57,
          -57,
          -57,
          -57,
          -57,
          -57,
          -57,
          -57,
          -57,
          -57,
          -57,
          -57,
          -57,
          -57,
          -58,
          -58,
          -58,
          -59,
          -59,
          -59,
          -59,
          -59,
          -60,
          -60,
          -60,
          -60,
          -60,
          -60,
          -60,
          -61,
          -61,
          -61,
          -61,
          -61,
          -61,
          -61,
          -61,
          -61,
          -61,
          -61,
          -62,
          -62,
          -62,
          -62,
          -62,
          -62,
          -62,
          -62,
          -62,
          -62,
          -62,
          -62,
          -62,
          -63,
          -63,
          -63,
          -63,
          -63,
          -63,
          -63,
          -63,
          -63,
          -63,
          -63,
          -63,
          -63,
          -63,
          -63,
          -63,
          -63,
          -64,
          -64,
          -64,
          -64,
          -64,
          -64,
          -64,
          -65,
          -65,
          -65,
          -65,
          -65,
          -65,
          -65,
          -65,
          -65,
          -66,
          -66,
          -66,
          -66,
          -66,
          -66,
          -66,
          -66,
          -66,
          -66,
          -66,
          -67,
          -67,
          -67,
          -67,
          -67,
          -67,
          -67,
          -67,
          -67,
          -67,
          -67,
          -67,
          -67,
          -68,
          -68,
          -68,
          -68,
          -68,
          -68,
          -68,
          -68,
          -68,
          -68,
          -68,
          -68,
          -68,
          -68,
          -68,
          -69,
          -69,
          -69,
          -69,
          -69,
          -69,
          -69,
          -69,
          -69,
          -69,
          -69,
          -69,
          -69,
          -69,
          -69,
          -69,
          -69,
          -70,
          -70,
          -70,
          -70,
          -70,
          -70,
          -70,
          -70,
          -70,
          -70,
          -70,
          -70,
          -70,
          -70,
          -70,
          -70,
          -70,
          -71,
          -71,
          -71,
          -71,
          -71,
          -71,
          -71,
          -71,
          -71,
          -71,
          -71,
          -71,
          -71,
          -71,
          -71,
          -71,
          -71,
          -75,
          -76,
          -76,
          -77,
          -77,
          -77,
          -78,
          -78,
          -78,
          -79,
          -79,
          -79,
          -79,
          -80,
          -80,
          -80,
          -80,
          -80,
          -81,
          -81,
          -81,
          -81,
          -81,
          -82,
          -82,
          -82,
          -82,
          -82,
          -83,
          -83,
          -83,
          -83,
          -83,
          -83,
          -84,
          -84,
          -84,
          -84,
          -84,
          -84,
          -84,
          -88,
          -89,
          -89,
          -90,
          -90,
          -90,
          -91,
          -91,
          -91,
          -91,
          -92,
          -92,
          -92,
          -92,
          -92,
          -93,
          -93,
          -93,
          -93,
          -93,
          -94,
          -94,
          -94,
          -94,
          -94,
          -94,
          -94,
          -95,
          -95,
          -95,
          -95,
          -95,
          -95,
          -95,
          -95,
          -96,
          -96,
          -96,
          -96,
          -96,
          -96,
          -96,
          -96,
          -96,
          -97,
          -97,
          -97,
          -97,
          -97,
          -97,
          -97,
          -97,
          -97,
          -97,
          -97,
          -98,
          -98,
          -98,
          -98,
          -98,
          -98,
          -99,
          -99,
          -99,
          -99,
          -99,
          -99,
          -99,
          -99,
          -100,
          -100,
          -100,
          -100,
          -100,
          -100,
          -100,
          -100,
          -100,
          -100,
          -101,
          -101,
          -101,
          -101,
          -101,
          -101,
          -101,
          -101,
          -102,
          -102,
          -102,
          -102,
          -102,
          -102,
          -102,
          -102,
          -102,
          -102,
          -102,
          -102,
          -102,
          -102,
          -103,
          -103,
          -103,
          -103,
          -104,
          -104,
          -104,
          -104,
          -104,
          -104,
          -104,
          -104,
          -104,
          -104,
          -104,
          -104,
          -104,
          -104,
          -104,
          -104,
          -104,
          -104,
          -104,
          -105,
          -105,
          -105,
          -106,
          -106,
          -106,
          -106,
          -106,
          -106,
          -106,
          -106,
          -106,
          -106,
          -106,
          -106,
          -106,
          -106,
          -106,
          -106,
          -106,
          -106,
          -106,
          -106,
          -106,
          -106,
          -106,
          -106,
          -110,
          -110,
          -111,
          -111,
          -111,
          -111,
          -112,
          -112,
          -112,
          -112,
          -112,
          -112,
          -113,
          -113,
          -113,
          -113,
          -113,
          -113,
          -113,
          -113,
          -113,
          -114,
          -114,
          -114,
          -114,
          -114,
          -114,
          -114,
          -114,
          -114,
          -115,
          -115,
          -115,
          -115,
          -115,
          -115,
          -115,
          -115,
          -115,
          -116,
          -116,
          -116,
          -116,
          -116,
          -116,
          -116,
          -116,
          -116,
          -117,
          -117,
          -117,
          -117,
          -117,
          -117,
          -117,
          -117,
          -117,
          -118,
          -118,
          -118,
          -118,
          -118,
          -118,
          -118,
          -118,
          -118,
          -118,
          -119,
          -119,
          -119,
          -119,
          -119,
          -119,
          -119,
          -119,
          -119,
          -119,
          -119,
          -120,
          -120,
          -120,
          -120,
          -121,
          -121,
          -121,
          -121,
          -121,
          -121,
          -122,
          -122,
          -122,
          -122,
          -122,
          -122,
          -122,
          -122,
          -123,
          -123,
          -123,
          -123,
          -123,
          -123,
          -123,
          -123,
          -123,
          -124,
          -124,
          -124,
          -124,
          -124,
          -124,
          -124,
          -124,
          -124,
          -124,
          -125,
          -125,
          -125,
          -125,
          -125,
          -125,
          -125,
          -125,
          -125,
          -125,
          -125,
          -125,
          -125,
          -125,
          -125,
          -125,
          -126,
          -126,
          -126,
          -126,
          -126,
          -126,
          -126,
          -127,
          -127,
          -127,
          -127,
          -127,
          -127,
          -127,
          -127,
          -127,
          -128,
          -128,
          -128,
          -128,
          -128,
          -128,
          -128,
          -128,
          -128,
          -128,
          -128,
          -128,
          -129,
          -129,
          -129,
          -129,
          -129,
          -129,
          -129,
          -129,
          -129,
          -129,
          -129,
          -129,
          -129,
          -129,
          -129,
          -129,
          -129,
          -129,
          -130,
          -130,
          -130,
          -130,
          -131,
          -131,
          -131,
          -131,
          -131,
          -131,
          -132,
          -132,
          -132,
          -132,
          -132,
          -132,
          -132,
          -132,
          -133,
          -133,
          -133,
          -133,
          -133,
          -133,
          -133,
          -133,
          -133,
          -133,
          -134,
          -134,
          -134,
          -134,
          -134,
          -134,
          -134,
          -134,
          -134,
          -134,
          -134,
          -134,
          -135,
          -135,
          -135,
          -135,
          -135,
          -135,
          -135,
          -135,
          -135,
          -135,
          -136,
          -136,
          -136,
          -136,
          -136,
          -136,
          -136,
          -136,
          -136,
          -136,
          -136,
          -136,
          -136,
          -136,
          -137,
          -137,
          -137,
          -137,
          -137,
          -137,
          -137,
          -137,
          -137,
          -137,
          -137,
          -137,
          -137,
          -137,
          -137,
          -137,
          -137,
          -137,
          -138,
          -138,
          -138,
          -138,
          -138,
          -138,
          -138,
          -138,
          -138,
          -138,
          -138,
          -138,
          -138,
          -138,
          -138,
          -138,
          -139,
          -139,
          -139,
          -139,
          -139,
          -139,
          -139,
          -139,
          -139,
          -139,
          -139,
          -139,
          -139,
          -139,
          -139,
          -139,
          -139,
          -139,
          -139,
          -139,
          -139,
          -140,
          -140,
          -140,
          -140,
          -140,
          -140,
          -140,
          -140,
          -140,
          -140,
          -140,
          -140,
          -140,
          -141,
          -141,
          -141,
          -141,
          -141,
          -141,
          -141,
          -141,
          -141,
          -141,
          -141,
          -141,
          -141,
          -141,
          -141,
          -141,
          -141,
          -141,
          -141,
          -141,
          -141,
          -141,
          -141,
          -141,
          -142,
          -142,
          -142,
          -142,
          -142,
          -142,
          -142,
          -142,
          -143,
          -143,
          -143,
          -143,
          -143,
          -143,
          -143,
          -143,
          -143,
          -143,
          -144,
          -144,
          -144,
          -144,
          -144,
          -144,
          -144,
          -144,
          -144,
          -144,
          -144,
          -144,
          -145,
          -145,
          -145,
          -145,
          -145,
          -145,
          -145,
          -145,
          -145,
          -145,
          -145,
          -146,
          -146,
          -146,
          -146,
          -146,
          -146,
          -146,
          -146,
          -146,
          -146,
          -146,
          -146,
          -146,
          -146,
          -146,
          -147,
          -147,
          -147,
          -147,
          -147,
          -147,
          -147,
          -148,
          -148,
          -148,
          -148,
          -148,
          -148,
          -148,
          -148,
          -148,
          -148,
          -148,
          -148,
          -148,
          -148,
          -148,
          -148,
          -148,
          -148,
          -148,
          -149,
          -149,
          -149,
          -149,
          -149,
          -149,
          -150,
          -150,
          -150,
          -150,
          -150,
          -150,
          -150,
          -150,
          -150,
          -150,
          -150,
          -150,
          -150,
          -150,
          -150,
          -150,
          -150,
          -150,
          -150,
          -150,
          -150,
          -150,
          -150,
          -151,
          -151,
          -151,
          -151,
          -151,
          -152,
          -152,
          -152,
          -152,
          -152,
          -152,
          -152,
          -152,
          -152,
          -152,
          -152,
          -152,
          -152,
          -152,
          -152,
          -152,
          -152,
          -152,
          -152,
          -152,
          -152,
          -152,
          -152,
          -152,
          -152,
          -152,
          -152,
          -153,
          -153,
          -153,
          -153,
          -154,
          -154,
          -154,
          -154,
          -154,
          -154,
          -154,
          -155,
          -155,
          -155,
          -155,
          -155,
          -155,
          -155,
          -155,
          -155,
          -155,
          -155,
          -155,
          -155,
          -155,
          -155,
          -157,
          -157,
          -158,
          -158,
          -158,
          -158,
          -159,
          -159,
          -159,
          -159,
          -159,
          -160,
          -160,
          -160,
          -160,
          -160,
          -160,
          -161,
          -161,
          -161,
          -161,
          -161,
          -161,
          -161,
          -162,
          -162,
          -162,
          -162,
          -162,
          -162,
          -162,
          -162,
          -162,
          -163,
          -163,
          -163,
          -163,
          -163,
          -163,
          -164,
          -164,
          -164,
          -164,
          -164,
          -164,
          -164,
          -165,
          -165,
          -165,
          -165,
          -165,
          -165,
          -165,
          -165,
          -166,
          -166,
          -166,
          -166,
          -166,
          -166,
          -166,
          -166,
          -166,
          -167,
          -167,
          -167,
          -167,
          -167,
          -167,
          -167,
          -167,
          -167,
          -168,
          -168,
          -168,
          -168,
          -168,
          -168,
          -168,
          -168,
          -168,
          -169,
          -169,
          -169,
          -169,
          -169,
          -169,
          -169,
          -169,
          -169,
          -170,
          -170,
          -170,
          -170,
          -170,
          -170,
          -170,
          -170,
          -170
         ],
         "yaxis": "y"
        }
       ],
       "layout": {
        "height": 800,
        "legend": {
         "tracegroupgap": 0
        },
        "margin": {
         "t": 60
        },
        "template": {
         "data": {
          "bar": [
           {
            "error_x": {
             "color": "#2a3f5f"
            },
            "error_y": {
             "color": "#2a3f5f"
            },
            "marker": {
             "line": {
              "color": "#E5ECF6",
              "width": 0.5
             },
             "pattern": {
              "fillmode": "overlay",
              "size": 10,
              "solidity": 0.2
             }
            },
            "type": "bar"
           }
          ],
          "barpolar": [
           {
            "marker": {
             "line": {
              "color": "#E5ECF6",
              "width": 0.5
             },
             "pattern": {
              "fillmode": "overlay",
              "size": 10,
              "solidity": 0.2
             }
            },
            "type": "barpolar"
           }
          ],
          "carpet": [
           {
            "aaxis": {
             "endlinecolor": "#2a3f5f",
             "gridcolor": "white",
             "linecolor": "white",
             "minorgridcolor": "white",
             "startlinecolor": "#2a3f5f"
            },
            "baxis": {
             "endlinecolor": "#2a3f5f",
             "gridcolor": "white",
             "linecolor": "white",
             "minorgridcolor": "white",
             "startlinecolor": "#2a3f5f"
            },
            "type": "carpet"
           }
          ],
          "choropleth": [
           {
            "colorbar": {
             "outlinewidth": 0,
             "ticks": ""
            },
            "type": "choropleth"
           }
          ],
          "contour": [
           {
            "colorbar": {
             "outlinewidth": 0,
             "ticks": ""
            },
            "colorscale": [
             [
              0,
              "#0d0887"
             ],
             [
              0.1111111111111111,
              "#46039f"
             ],
             [
              0.2222222222222222,
              "#7201a8"
             ],
             [
              0.3333333333333333,
              "#9c179e"
             ],
             [
              0.4444444444444444,
              "#bd3786"
             ],
             [
              0.5555555555555556,
              "#d8576b"
             ],
             [
              0.6666666666666666,
              "#ed7953"
             ],
             [
              0.7777777777777778,
              "#fb9f3a"
             ],
             [
              0.8888888888888888,
              "#fdca26"
             ],
             [
              1,
              "#f0f921"
             ]
            ],
            "type": "contour"
           }
          ],
          "contourcarpet": [
           {
            "colorbar": {
             "outlinewidth": 0,
             "ticks": ""
            },
            "type": "contourcarpet"
           }
          ],
          "heatmap": [
           {
            "colorbar": {
             "outlinewidth": 0,
             "ticks": ""
            },
            "colorscale": [
             [
              0,
              "#0d0887"
             ],
             [
              0.1111111111111111,
              "#46039f"
             ],
             [
              0.2222222222222222,
              "#7201a8"
             ],
             [
              0.3333333333333333,
              "#9c179e"
             ],
             [
              0.4444444444444444,
              "#bd3786"
             ],
             [
              0.5555555555555556,
              "#d8576b"
             ],
             [
              0.6666666666666666,
              "#ed7953"
             ],
             [
              0.7777777777777778,
              "#fb9f3a"
             ],
             [
              0.8888888888888888,
              "#fdca26"
             ],
             [
              1,
              "#f0f921"
             ]
            ],
            "type": "heatmap"
           }
          ],
          "heatmapgl": [
           {
            "colorbar": {
             "outlinewidth": 0,
             "ticks": ""
            },
            "colorscale": [
             [
              0,
              "#0d0887"
             ],
             [
              0.1111111111111111,
              "#46039f"
             ],
             [
              0.2222222222222222,
              "#7201a8"
             ],
             [
              0.3333333333333333,
              "#9c179e"
             ],
             [
              0.4444444444444444,
              "#bd3786"
             ],
             [
              0.5555555555555556,
              "#d8576b"
             ],
             [
              0.6666666666666666,
              "#ed7953"
             ],
             [
              0.7777777777777778,
              "#fb9f3a"
             ],
             [
              0.8888888888888888,
              "#fdca26"
             ],
             [
              1,
              "#f0f921"
             ]
            ],
            "type": "heatmapgl"
           }
          ],
          "histogram": [
           {
            "marker": {
             "pattern": {
              "fillmode": "overlay",
              "size": 10,
              "solidity": 0.2
             }
            },
            "type": "histogram"
           }
          ],
          "histogram2d": [
           {
            "colorbar": {
             "outlinewidth": 0,
             "ticks": ""
            },
            "colorscale": [
             [
              0,
              "#0d0887"
             ],
             [
              0.1111111111111111,
              "#46039f"
             ],
             [
              0.2222222222222222,
              "#7201a8"
             ],
             [
              0.3333333333333333,
              "#9c179e"
             ],
             [
              0.4444444444444444,
              "#bd3786"
             ],
             [
              0.5555555555555556,
              "#d8576b"
             ],
             [
              0.6666666666666666,
              "#ed7953"
             ],
             [
              0.7777777777777778,
              "#fb9f3a"
             ],
             [
              0.8888888888888888,
              "#fdca26"
             ],
             [
              1,
              "#f0f921"
             ]
            ],
            "type": "histogram2d"
           }
          ],
          "histogram2dcontour": [
           {
            "colorbar": {
             "outlinewidth": 0,
             "ticks": ""
            },
            "colorscale": [
             [
              0,
              "#0d0887"
             ],
             [
              0.1111111111111111,
              "#46039f"
             ],
             [
              0.2222222222222222,
              "#7201a8"
             ],
             [
              0.3333333333333333,
              "#9c179e"
             ],
             [
              0.4444444444444444,
              "#bd3786"
             ],
             [
              0.5555555555555556,
              "#d8576b"
             ],
             [
              0.6666666666666666,
              "#ed7953"
             ],
             [
              0.7777777777777778,
              "#fb9f3a"
             ],
             [
              0.8888888888888888,
              "#fdca26"
             ],
             [
              1,
              "#f0f921"
             ]
            ],
            "type": "histogram2dcontour"
           }
          ],
          "mesh3d": [
           {
            "colorbar": {
             "outlinewidth": 0,
             "ticks": ""
            },
            "type": "mesh3d"
           }
          ],
          "parcoords": [
           {
            "line": {
             "colorbar": {
              "outlinewidth": 0,
              "ticks": ""
             }
            },
            "type": "parcoords"
           }
          ],
          "pie": [
           {
            "automargin": true,
            "type": "pie"
           }
          ],
          "scatter": [
           {
            "fillpattern": {
             "fillmode": "overlay",
             "size": 10,
             "solidity": 0.2
            },
            "type": "scatter"
           }
          ],
          "scatter3d": [
           {
            "line": {
             "colorbar": {
              "outlinewidth": 0,
              "ticks": ""
             }
            },
            "marker": {
             "colorbar": {
              "outlinewidth": 0,
              "ticks": ""
             }
            },
            "type": "scatter3d"
           }
          ],
          "scattercarpet": [
           {
            "marker": {
             "colorbar": {
              "outlinewidth": 0,
              "ticks": ""
             }
            },
            "type": "scattercarpet"
           }
          ],
          "scattergeo": [
           {
            "marker": {
             "colorbar": {
              "outlinewidth": 0,
              "ticks": ""
             }
            },
            "type": "scattergeo"
           }
          ],
          "scattergl": [
           {
            "marker": {
             "colorbar": {
              "outlinewidth": 0,
              "ticks": ""
             }
            },
            "type": "scattergl"
           }
          ],
          "scattermapbox": [
           {
            "marker": {
             "colorbar": {
              "outlinewidth": 0,
              "ticks": ""
             }
            },
            "type": "scattermapbox"
           }
          ],
          "scatterpolar": [
           {
            "marker": {
             "colorbar": {
              "outlinewidth": 0,
              "ticks": ""
             }
            },
            "type": "scatterpolar"
           }
          ],
          "scatterpolargl": [
           {
            "marker": {
             "colorbar": {
              "outlinewidth": 0,
              "ticks": ""
             }
            },
            "type": "scatterpolargl"
           }
          ],
          "scatterternary": [
           {
            "marker": {
             "colorbar": {
              "outlinewidth": 0,
              "ticks": ""
             }
            },
            "type": "scatterternary"
           }
          ],
          "surface": [
           {
            "colorbar": {
             "outlinewidth": 0,
             "ticks": ""
            },
            "colorscale": [
             [
              0,
              "#0d0887"
             ],
             [
              0.1111111111111111,
              "#46039f"
             ],
             [
              0.2222222222222222,
              "#7201a8"
             ],
             [
              0.3333333333333333,
              "#9c179e"
             ],
             [
              0.4444444444444444,
              "#bd3786"
             ],
             [
              0.5555555555555556,
              "#d8576b"
             ],
             [
              0.6666666666666666,
              "#ed7953"
             ],
             [
              0.7777777777777778,
              "#fb9f3a"
             ],
             [
              0.8888888888888888,
              "#fdca26"
             ],
             [
              1,
              "#f0f921"
             ]
            ],
            "type": "surface"
           }
          ],
          "table": [
           {
            "cells": {
             "fill": {
              "color": "#EBF0F8"
             },
             "line": {
              "color": "white"
             }
            },
            "header": {
             "fill": {
              "color": "#C8D4E3"
             },
             "line": {
              "color": "white"
             }
            },
            "type": "table"
           }
          ]
         },
         "layout": {
          "annotationdefaults": {
           "arrowcolor": "#2a3f5f",
           "arrowhead": 0,
           "arrowwidth": 1
          },
          "autotypenumbers": "strict",
          "coloraxis": {
           "colorbar": {
            "outlinewidth": 0,
            "ticks": ""
           }
          },
          "colorscale": {
           "diverging": [
            [
             0,
             "#8e0152"
            ],
            [
             0.1,
             "#c51b7d"
            ],
            [
             0.2,
             "#de77ae"
            ],
            [
             0.3,
             "#f1b6da"
            ],
            [
             0.4,
             "#fde0ef"
            ],
            [
             0.5,
             "#f7f7f7"
            ],
            [
             0.6,
             "#e6f5d0"
            ],
            [
             0.7,
             "#b8e186"
            ],
            [
             0.8,
             "#7fbc41"
            ],
            [
             0.9,
             "#4d9221"
            ],
            [
             1,
             "#276419"
            ]
           ],
           "sequential": [
            [
             0,
             "#0d0887"
            ],
            [
             0.1111111111111111,
             "#46039f"
            ],
            [
             0.2222222222222222,
             "#7201a8"
            ],
            [
             0.3333333333333333,
             "#9c179e"
            ],
            [
             0.4444444444444444,
             "#bd3786"
            ],
            [
             0.5555555555555556,
             "#d8576b"
            ],
            [
             0.6666666666666666,
             "#ed7953"
            ],
            [
             0.7777777777777778,
             "#fb9f3a"
            ],
            [
             0.8888888888888888,
             "#fdca26"
            ],
            [
             1,
             "#f0f921"
            ]
           ],
           "sequentialminus": [
            [
             0,
             "#0d0887"
            ],
            [
             0.1111111111111111,
             "#46039f"
            ],
            [
             0.2222222222222222,
             "#7201a8"
            ],
            [
             0.3333333333333333,
             "#9c179e"
            ],
            [
             0.4444444444444444,
             "#bd3786"
            ],
            [
             0.5555555555555556,
             "#d8576b"
            ],
            [
             0.6666666666666666,
             "#ed7953"
            ],
            [
             0.7777777777777778,
             "#fb9f3a"
            ],
            [
             0.8888888888888888,
             "#fdca26"
            ],
            [
             1,
             "#f0f921"
            ]
           ]
          },
          "colorway": [
           "#636efa",
           "#EF553B",
           "#00cc96",
           "#ab63fa",
           "#FFA15A",
           "#19d3f3",
           "#FF6692",
           "#B6E880",
           "#FF97FF",
           "#FECB52"
          ],
          "font": {
           "color": "#2a3f5f"
          },
          "geo": {
           "bgcolor": "white",
           "lakecolor": "white",
           "landcolor": "#E5ECF6",
           "showlakes": true,
           "showland": true,
           "subunitcolor": "white"
          },
          "hoverlabel": {
           "align": "left"
          },
          "hovermode": "closest",
          "mapbox": {
           "style": "light"
          },
          "paper_bgcolor": "white",
          "plot_bgcolor": "#E5ECF6",
          "polar": {
           "angularaxis": {
            "gridcolor": "white",
            "linecolor": "white",
            "ticks": ""
           },
           "bgcolor": "#E5ECF6",
           "radialaxis": {
            "gridcolor": "white",
            "linecolor": "white",
            "ticks": ""
           }
          },
          "scene": {
           "xaxis": {
            "backgroundcolor": "#E5ECF6",
            "gridcolor": "white",
            "gridwidth": 2,
            "linecolor": "white",
            "showbackground": true,
            "ticks": "",
            "zerolinecolor": "white"
           },
           "yaxis": {
            "backgroundcolor": "#E5ECF6",
            "gridcolor": "white",
            "gridwidth": 2,
            "linecolor": "white",
            "showbackground": true,
            "ticks": "",
            "zerolinecolor": "white"
           },
           "zaxis": {
            "backgroundcolor": "#E5ECF6",
            "gridcolor": "white",
            "gridwidth": 2,
            "linecolor": "white",
            "showbackground": true,
            "ticks": "",
            "zerolinecolor": "white"
           }
          },
          "shapedefaults": {
           "line": {
            "color": "#2a3f5f"
           }
          },
          "ternary": {
           "aaxis": {
            "gridcolor": "white",
            "linecolor": "white",
            "ticks": ""
           },
           "baxis": {
            "gridcolor": "white",
            "linecolor": "white",
            "ticks": ""
           },
           "bgcolor": "#E5ECF6",
           "caxis": {
            "gridcolor": "white",
            "linecolor": "white",
            "ticks": ""
           }
          },
          "title": {
           "x": 0.05
          },
          "xaxis": {
           "automargin": true,
           "gridcolor": "white",
           "linecolor": "white",
           "ticks": "",
           "title": {
            "standoff": 15
           },
           "zerolinecolor": "white",
           "zerolinewidth": 2
          },
          "yaxis": {
           "automargin": true,
           "gridcolor": "white",
           "linecolor": "white",
           "ticks": "",
           "title": {
            "standoff": 15
           },
           "zerolinecolor": "white",
           "zerolinewidth": 2
          }
         }
        },
        "xaxis": {
         "anchor": "y",
         "domain": [
          0,
          1
         ],
         "title": {
          "text": "x"
         }
        },
        "yaxis": {
         "anchor": "x",
         "domain": [
          0,
          1
         ],
         "title": {
          "text": "y"
         }
        }
       }
      },
      "text/html": [
       "<div>                            <div id=\"ee9f53ef-bda3-42b7-9a75-e379047ad2a3\" class=\"plotly-graph-div\" style=\"height:800px; width:100%;\"></div>            <script type=\"text/javascript\">                require([\"plotly\"], function(Plotly) {                    window.PLOTLYENV=window.PLOTLYENV || {};                                    if (document.getElementById(\"ee9f53ef-bda3-42b7-9a75-e379047ad2a3\")) {                    Plotly.newPlot(                        \"ee9f53ef-bda3-42b7-9a75-e379047ad2a3\",                        [{\"hovertemplate\":\"x=%{x}<br>y=%{y}<extra></extra>\",\"legendgroup\":\"\",\"marker\":{\"color\":\"#636efa\",\"symbol\":\"circle\"},\"mode\":\"markers\",\"name\":\"\",\"showlegend\":false,\"x\":[39,40,38,39,40,41,37,38,39,40,41,42,36,37,38,39,40,41,42,43,30,35,36,37,38,39,40,41,42,43,44,30,34,35,36,37,38,39,40,41,42,43,44,45,30,33,34,35,36,37,38,39,40,41,42,43,44,45,46,30,32,33,34,35,36,37,38,39,40,41,42,43,44,45,46,47,30,31,32,33,34,35,36,37,38,39,40,41,42,43,44,45,46,47,48,30,31,32,33,34,35,36,37,38,39,40,41,42,43,44,45,46,47,48,49,30,31,32,33,34,35,36,37,38,39,40,41,42,43,44,45,46,47,48,49,50,30,31,32,33,34,35,36,37,38,39,40,41,42,43,44,45,46,47,48,49,50,51,30,31,32,33,34,35,36,37,38,39,40,41,42,43,44,45,46,47,48,49,50,51,52,30,31,32,33,34,35,36,37,38,39,40,41,42,43,44,45,46,47,48,49,50,51,52,53,30,31,32,33,34,35,36,37,38,39,40,41,42,43,44,45,46,47,48,49,50,51,52,53,54,48,49,50,51,52,53,54,55,47,48,49,50,51,52,53,54,55,56,46,47,48,49,50,51,52,53,54,55,56,57,39,45,46,47,48,49,50,51,52,53,54,55,56,57,58,39,40,41,42,43,44,45,46,47,48,49,50,51,52,53,54,55,56,57,58,59,60,59,60,61,58,59,60,61,62,58,59,60,61,62,58,59,60,61,62,57,58,59,60,61,62,56,57,58,59,60,61,62,63,64,65,66,67,68,69,55,56,57,58,59,60,61,62,69,54,55,56,57,58,59,60,61,62,63,69,53,54,55,56,57,58,59,60,61,62,63,64,65,66,67,68,69,52,53,54,55,56,57,51,52,53,54,55,56,57,58,50,51,52,53,54,55,56,57,58,59,61,50,51,52,53,54,55,56,57,58,59,60,61,49,48,49,50,47,48,49,50,51,46,45,46,47,44,45,46,47,48,50,51,52,53,54,43,42,43,44,41,42,43,44,45,47,48,49,50,51,53,54,55,56,57,40,39,40,41,38,39,40,41,42,44,45,46,47,48,50,51,52,53,54,56,57,58,59,60,36,37,35,36,37,38,34,35,36,37,38,39,41,42,43,44,45,47,48,49,50,51,53,54,55,56,57,59,60,61,62,63,33,34,35,32,33,34,35,36,31,32,33,34,35,36,37,30,31,32,33,34,35,36,37,38,39,40,29,30,31,32,33,34,35,36,37,38,39,40,41,26,27,28,29,30,31,32,33,34,35,36,37,38,39,40,41,42,26,32,33,34,35,36,42,26,31,32,33,34,35,36,37,42,26,30,31,32,33,34,35,36,37,38,42,26,29,30,31,32,33,34,35,36,37,38,39,42,26,28,29,30,31,32,33,34,35,36,37,38,39,40,42,26,27,28,29,30,31,32,33,34,35,36,37,38,39,40,41,42,26,27,28,29,30,31,32,33,34,35,36,37,38,39,40,41,42,26,27,28,29,30,31,32,33,34,35,36,37,38,39,40,41,42,43,42,43,41,42,43,41,42,43,40,41,42,43,39,40,41,42,43,39,40,41,42,43,39,40,41,42,43,39,40,41,42,43,45,39,40,41,42,43,44,45,38,37,38,36,37,38,35,36,37,38,34,35,36,37,38,34,35,36,37,38,33,34,35,36,37,38,40,32,33,34,35,36,37,38,40,31,32,33,34,35,36,37,38,40,30,31,32,33,34,35,36,37,38,39,40,29,30,31,32,33,34,28,29,30,31,32,33,34,35,27,28,29,30,31,32,33,34,35,36,26,27,28,29,30,35,36,37,25,26,27,28,29,30,31,32,34,35,36,37,38,39,24,25,26,27,23,24,25,26,27,28,29,31,32,33,34,35,36,38,39,40,41,42,43,22,23,24,21,22,23,24,25,26,28,29,30,31,32,33,35,36,37,38,39,40,42,43,44,45,46,47,19,20,18,19,20,21,17,18,19,20,21,22,15,16,17,18,19,20,21,22,23,15,16,17,18,19,20,21,22,23,15,16,17,18,19,20,21,22,23,15,16,17,18,19,20,21,22,23,15,16,17,18,19,20,21,22,23,15,16,17,18,19,20,21,22,23,24,15,16,17,18,19,20,21,22,23,24,25,23,24,25,26,22,23,24,25,26,27,21,22,23,24,25,26,27,28,21,22,23,24,25,26,27,28,29,21,22,23,24,25,26,27,28,29,30,16,17,18,19,20,21,22,23,24,25,26,27,28,29,30,31,16,21,22,23,24,25,31,16,20,21,22,23,24,25,26,31,16,19,20,21,22,23,24,25,26,27,31,32,16,17,18,19,20,21,22,23,24,25,26,27,28,29,30,31,32,33,31,32,33,34,30,31,32,33,34,35,29,30,31,32,33,34,35,36,28,29,30,31,32,33,34,35,36,37,27,28,29,30,31,32,33,34,35,36,37,38,26,27,28,29,34,35,36,37,38,39,25,26,27,28,29,30,33,34,35,36,37,38,39,40,24,25,26,27,28,29,30,31,32,33,34,35,36,37,38,39,40,41,23,24,25,26,27,28,29,30,31,32,37,38,39,40,41,42,22,23,24,25,26,27,28,29,30,31,32,33,34,36,37,38,39,40,41,42,43,21,22,23,24,25,26,27,28,29,41,42,43,44,20,21,22,23,24,25,26,27,28,29,30,31,33,34,35,36,37,38,40,41,42,43,44,45,19,20,21,22,23,24,25,26,18,19,20,21,22,23,24,25,26,27,17,18,19,20,21,22,23,24,25,26,27,28,16,17,18,19,20,21,22,23,27,28,29,15,16,17,18,19,20,21,22,23,24,26,27,28,29,30,14,15,16,17,18,19,20,13,14,15,16,17,18,19,20,21,23,24,25,26,27,29,30,31,32,33,12,13,14,15,16,17,11,12,13,14,15,16,17,18,20,21,22,23,24,26,27,28,29,30,32,33,34,35,36,10,11,12,13,14,9,10,11,12,13,14,15,17,18,19,20,21,23,24,25,26,27,29,30,31,32,33,35,36,37,38,39,8,9,10,11,7,8,9,10,11,12,14,0,1,2,3,4,5,6,7,8,9,10,11,12,13,14,45,46,44,45,46,47,44,45,46,47,48,44,45,46,47,48,49,44,45,46,47,48,49,50,43,44,45,46,47,48,49,50,51,43,44,45,46,47,51,43,44,45,46,47,48,51,43,44,45,46,47,48,49,51,43,44,45,46,47,48,49,50,51,43,44,45,46,47,48,49,50,51,43,44,45,46,47,48,49,50,51,43,44,45,46,47,48,49,50,51,43,44,45,46,47,48,49,50,51],\"xaxis\":\"x\",\"y\":[-9,-9,-10,-10,-10,-10,-11,-11,-11,-11,-11,-11,-12,-12,-12,-12,-12,-12,-12,-12,-13,-13,-13,-13,-13,-13,-13,-13,-13,-13,-13,-14,-14,-14,-14,-14,-14,-14,-14,-14,-14,-14,-14,-14,-15,-15,-15,-15,-15,-15,-15,-15,-15,-15,-15,-15,-15,-15,-15,-16,-16,-16,-16,-16,-16,-16,-16,-16,-16,-16,-16,-16,-16,-16,-16,-16,-17,-17,-17,-17,-17,-17,-17,-17,-17,-17,-17,-17,-17,-17,-17,-17,-17,-17,-17,-18,-18,-18,-18,-18,-18,-18,-18,-18,-18,-18,-18,-18,-18,-18,-18,-18,-18,-18,-18,-19,-19,-19,-19,-19,-19,-19,-19,-19,-19,-19,-19,-19,-19,-19,-19,-19,-19,-19,-19,-19,-20,-20,-20,-20,-20,-20,-20,-20,-20,-20,-20,-20,-20,-20,-20,-20,-20,-20,-20,-20,-20,-20,-21,-21,-21,-21,-21,-21,-21,-21,-21,-21,-21,-21,-21,-21,-21,-21,-21,-21,-21,-21,-21,-21,-21,-22,-22,-22,-22,-22,-22,-22,-22,-22,-22,-22,-22,-22,-22,-22,-22,-22,-22,-22,-22,-22,-22,-22,-22,-23,-23,-23,-23,-23,-23,-23,-23,-23,-23,-23,-23,-23,-23,-23,-23,-23,-23,-23,-23,-23,-23,-23,-23,-23,-24,-24,-24,-24,-24,-24,-24,-24,-25,-25,-25,-25,-25,-25,-25,-25,-25,-25,-26,-26,-26,-26,-26,-26,-26,-26,-26,-26,-26,-26,-27,-27,-27,-27,-27,-27,-27,-27,-27,-27,-27,-27,-27,-27,-27,-28,-28,-28,-28,-28,-28,-28,-28,-28,-28,-28,-28,-28,-28,-28,-28,-28,-28,-28,-28,-28,-29,-30,-30,-30,-31,-31,-31,-31,-31,-32,-32,-32,-32,-32,-33,-33,-33,-33,-33,-34,-34,-34,-34,-34,-34,-35,-35,-35,-35,-35,-35,-35,-35,-35,-35,-35,-35,-35,-35,-36,-36,-36,-36,-36,-36,-36,-36,-36,-37,-37,-37,-37,-37,-37,-37,-37,-37,-37,-37,-38,-38,-38,-38,-38,-38,-38,-38,-38,-38,-38,-38,-38,-38,-38,-38,-38,-39,-39,-39,-39,-39,-39,-40,-40,-40,-40,-40,-40,-40,-40,-41,-41,-41,-41,-41,-41,-41,-41,-41,-41,-41,-42,-42,-42,-42,-42,-42,-42,-42,-42,-42,-42,-42,-43,-44,-44,-44,-45,-45,-45,-45,-45,-46,-47,-47,-47,-48,-48,-48,-48,-48,-48,-48,-48,-48,-48,-49,-50,-50,-50,-51,-51,-51,-51,-51,-51,-51,-51,-51,-51,-51,-51,-51,-51,-51,-52,-53,-53,-53,-54,-54,-54,-54,-54,-54,-54,-54,-54,-54,-54,-54,-54,-54,-54,-54,-54,-54,-54,-54,-55,-55,-56,-56,-56,-56,-57,-57,-57,-57,-57,-57,-57,-57,-57,-57,-57,-57,-57,-57,-57,-57,-57,-57,-57,-57,-57,-57,-57,-57,-57,-57,-58,-58,-58,-59,-59,-59,-59,-59,-60,-60,-60,-60,-60,-60,-60,-61,-61,-61,-61,-61,-61,-61,-61,-61,-61,-61,-62,-62,-62,-62,-62,-62,-62,-62,-62,-62,-62,-62,-62,-63,-63,-63,-63,-63,-63,-63,-63,-63,-63,-63,-63,-63,-63,-63,-63,-63,-64,-64,-64,-64,-64,-64,-64,-65,-65,-65,-65,-65,-65,-65,-65,-65,-66,-66,-66,-66,-66,-66,-66,-66,-66,-66,-66,-67,-67,-67,-67,-67,-67,-67,-67,-67,-67,-67,-67,-67,-68,-68,-68,-68,-68,-68,-68,-68,-68,-68,-68,-68,-68,-68,-68,-69,-69,-69,-69,-69,-69,-69,-69,-69,-69,-69,-69,-69,-69,-69,-69,-69,-70,-70,-70,-70,-70,-70,-70,-70,-70,-70,-70,-70,-70,-70,-70,-70,-70,-71,-71,-71,-71,-71,-71,-71,-71,-71,-71,-71,-71,-71,-71,-71,-71,-71,-75,-76,-76,-77,-77,-77,-78,-78,-78,-79,-79,-79,-79,-80,-80,-80,-80,-80,-81,-81,-81,-81,-81,-82,-82,-82,-82,-82,-83,-83,-83,-83,-83,-83,-84,-84,-84,-84,-84,-84,-84,-88,-89,-89,-90,-90,-90,-91,-91,-91,-91,-92,-92,-92,-92,-92,-93,-93,-93,-93,-93,-94,-94,-94,-94,-94,-94,-94,-95,-95,-95,-95,-95,-95,-95,-95,-96,-96,-96,-96,-96,-96,-96,-96,-96,-97,-97,-97,-97,-97,-97,-97,-97,-97,-97,-97,-98,-98,-98,-98,-98,-98,-99,-99,-99,-99,-99,-99,-99,-99,-100,-100,-100,-100,-100,-100,-100,-100,-100,-100,-101,-101,-101,-101,-101,-101,-101,-101,-102,-102,-102,-102,-102,-102,-102,-102,-102,-102,-102,-102,-102,-102,-103,-103,-103,-103,-104,-104,-104,-104,-104,-104,-104,-104,-104,-104,-104,-104,-104,-104,-104,-104,-104,-104,-104,-105,-105,-105,-106,-106,-106,-106,-106,-106,-106,-106,-106,-106,-106,-106,-106,-106,-106,-106,-106,-106,-106,-106,-106,-106,-106,-106,-110,-110,-111,-111,-111,-111,-112,-112,-112,-112,-112,-112,-113,-113,-113,-113,-113,-113,-113,-113,-113,-114,-114,-114,-114,-114,-114,-114,-114,-114,-115,-115,-115,-115,-115,-115,-115,-115,-115,-116,-116,-116,-116,-116,-116,-116,-116,-116,-117,-117,-117,-117,-117,-117,-117,-117,-117,-118,-118,-118,-118,-118,-118,-118,-118,-118,-118,-119,-119,-119,-119,-119,-119,-119,-119,-119,-119,-119,-120,-120,-120,-120,-121,-121,-121,-121,-121,-121,-122,-122,-122,-122,-122,-122,-122,-122,-123,-123,-123,-123,-123,-123,-123,-123,-123,-124,-124,-124,-124,-124,-124,-124,-124,-124,-124,-125,-125,-125,-125,-125,-125,-125,-125,-125,-125,-125,-125,-125,-125,-125,-125,-126,-126,-126,-126,-126,-126,-126,-127,-127,-127,-127,-127,-127,-127,-127,-127,-128,-128,-128,-128,-128,-128,-128,-128,-128,-128,-128,-128,-129,-129,-129,-129,-129,-129,-129,-129,-129,-129,-129,-129,-129,-129,-129,-129,-129,-129,-130,-130,-130,-130,-131,-131,-131,-131,-131,-131,-132,-132,-132,-132,-132,-132,-132,-132,-133,-133,-133,-133,-133,-133,-133,-133,-133,-133,-134,-134,-134,-134,-134,-134,-134,-134,-134,-134,-134,-134,-135,-135,-135,-135,-135,-135,-135,-135,-135,-135,-136,-136,-136,-136,-136,-136,-136,-136,-136,-136,-136,-136,-136,-136,-137,-137,-137,-137,-137,-137,-137,-137,-137,-137,-137,-137,-137,-137,-137,-137,-137,-137,-138,-138,-138,-138,-138,-138,-138,-138,-138,-138,-138,-138,-138,-138,-138,-138,-139,-139,-139,-139,-139,-139,-139,-139,-139,-139,-139,-139,-139,-139,-139,-139,-139,-139,-139,-139,-139,-140,-140,-140,-140,-140,-140,-140,-140,-140,-140,-140,-140,-140,-141,-141,-141,-141,-141,-141,-141,-141,-141,-141,-141,-141,-141,-141,-141,-141,-141,-141,-141,-141,-141,-141,-141,-141,-142,-142,-142,-142,-142,-142,-142,-142,-143,-143,-143,-143,-143,-143,-143,-143,-143,-143,-144,-144,-144,-144,-144,-144,-144,-144,-144,-144,-144,-144,-145,-145,-145,-145,-145,-145,-145,-145,-145,-145,-145,-146,-146,-146,-146,-146,-146,-146,-146,-146,-146,-146,-146,-146,-146,-146,-147,-147,-147,-147,-147,-147,-147,-148,-148,-148,-148,-148,-148,-148,-148,-148,-148,-148,-148,-148,-148,-148,-148,-148,-148,-148,-149,-149,-149,-149,-149,-149,-150,-150,-150,-150,-150,-150,-150,-150,-150,-150,-150,-150,-150,-150,-150,-150,-150,-150,-150,-150,-150,-150,-150,-151,-151,-151,-151,-151,-152,-152,-152,-152,-152,-152,-152,-152,-152,-152,-152,-152,-152,-152,-152,-152,-152,-152,-152,-152,-152,-152,-152,-152,-152,-152,-152,-153,-153,-153,-153,-154,-154,-154,-154,-154,-154,-154,-155,-155,-155,-155,-155,-155,-155,-155,-155,-155,-155,-155,-155,-155,-155,-157,-157,-158,-158,-158,-158,-159,-159,-159,-159,-159,-160,-160,-160,-160,-160,-160,-161,-161,-161,-161,-161,-161,-161,-162,-162,-162,-162,-162,-162,-162,-162,-162,-163,-163,-163,-163,-163,-163,-164,-164,-164,-164,-164,-164,-164,-165,-165,-165,-165,-165,-165,-165,-165,-166,-166,-166,-166,-166,-166,-166,-166,-166,-167,-167,-167,-167,-167,-167,-167,-167,-167,-168,-168,-168,-168,-168,-168,-168,-168,-168,-169,-169,-169,-169,-169,-169,-169,-169,-169,-170,-170,-170,-170,-170,-170,-170,-170,-170],\"yaxis\":\"y\",\"type\":\"scattergl\"}],                        {\"template\":{\"data\":{\"histogram2dcontour\":[{\"type\":\"histogram2dcontour\",\"colorbar\":{\"outlinewidth\":0,\"ticks\":\"\"},\"colorscale\":[[0.0,\"#0d0887\"],[0.1111111111111111,\"#46039f\"],[0.2222222222222222,\"#7201a8\"],[0.3333333333333333,\"#9c179e\"],[0.4444444444444444,\"#bd3786\"],[0.5555555555555556,\"#d8576b\"],[0.6666666666666666,\"#ed7953\"],[0.7777777777777778,\"#fb9f3a\"],[0.8888888888888888,\"#fdca26\"],[1.0,\"#f0f921\"]]}],\"choropleth\":[{\"type\":\"choropleth\",\"colorbar\":{\"outlinewidth\":0,\"ticks\":\"\"}}],\"histogram2d\":[{\"type\":\"histogram2d\",\"colorbar\":{\"outlinewidth\":0,\"ticks\":\"\"},\"colorscale\":[[0.0,\"#0d0887\"],[0.1111111111111111,\"#46039f\"],[0.2222222222222222,\"#7201a8\"],[0.3333333333333333,\"#9c179e\"],[0.4444444444444444,\"#bd3786\"],[0.5555555555555556,\"#d8576b\"],[0.6666666666666666,\"#ed7953\"],[0.7777777777777778,\"#fb9f3a\"],[0.8888888888888888,\"#fdca26\"],[1.0,\"#f0f921\"]]}],\"heatmap\":[{\"type\":\"heatmap\",\"colorbar\":{\"outlinewidth\":0,\"ticks\":\"\"},\"colorscale\":[[0.0,\"#0d0887\"],[0.1111111111111111,\"#46039f\"],[0.2222222222222222,\"#7201a8\"],[0.3333333333333333,\"#9c179e\"],[0.4444444444444444,\"#bd3786\"],[0.5555555555555556,\"#d8576b\"],[0.6666666666666666,\"#ed7953\"],[0.7777777777777778,\"#fb9f3a\"],[0.8888888888888888,\"#fdca26\"],[1.0,\"#f0f921\"]]}],\"heatmapgl\":[{\"type\":\"heatmapgl\",\"colorbar\":{\"outlinewidth\":0,\"ticks\":\"\"},\"colorscale\":[[0.0,\"#0d0887\"],[0.1111111111111111,\"#46039f\"],[0.2222222222222222,\"#7201a8\"],[0.3333333333333333,\"#9c179e\"],[0.4444444444444444,\"#bd3786\"],[0.5555555555555556,\"#d8576b\"],[0.6666666666666666,\"#ed7953\"],[0.7777777777777778,\"#fb9f3a\"],[0.8888888888888888,\"#fdca26\"],[1.0,\"#f0f921\"]]}],\"contourcarpet\":[{\"type\":\"contourcarpet\",\"colorbar\":{\"outlinewidth\":0,\"ticks\":\"\"}}],\"contour\":[{\"type\":\"contour\",\"colorbar\":{\"outlinewidth\":0,\"ticks\":\"\"},\"colorscale\":[[0.0,\"#0d0887\"],[0.1111111111111111,\"#46039f\"],[0.2222222222222222,\"#7201a8\"],[0.3333333333333333,\"#9c179e\"],[0.4444444444444444,\"#bd3786\"],[0.5555555555555556,\"#d8576b\"],[0.6666666666666666,\"#ed7953\"],[0.7777777777777778,\"#fb9f3a\"],[0.8888888888888888,\"#fdca26\"],[1.0,\"#f0f921\"]]}],\"surface\":[{\"type\":\"surface\",\"colorbar\":{\"outlinewidth\":0,\"ticks\":\"\"},\"colorscale\":[[0.0,\"#0d0887\"],[0.1111111111111111,\"#46039f\"],[0.2222222222222222,\"#7201a8\"],[0.3333333333333333,\"#9c179e\"],[0.4444444444444444,\"#bd3786\"],[0.5555555555555556,\"#d8576b\"],[0.6666666666666666,\"#ed7953\"],[0.7777777777777778,\"#fb9f3a\"],[0.8888888888888888,\"#fdca26\"],[1.0,\"#f0f921\"]]}],\"mesh3d\":[{\"type\":\"mesh3d\",\"colorbar\":{\"outlinewidth\":0,\"ticks\":\"\"}}],\"scatter\":[{\"fillpattern\":{\"fillmode\":\"overlay\",\"size\":10,\"solidity\":0.2},\"type\":\"scatter\"}],\"parcoords\":[{\"type\":\"parcoords\",\"line\":{\"colorbar\":{\"outlinewidth\":0,\"ticks\":\"\"}}}],\"scatterpolargl\":[{\"type\":\"scatterpolargl\",\"marker\":{\"colorbar\":{\"outlinewidth\":0,\"ticks\":\"\"}}}],\"bar\":[{\"error_x\":{\"color\":\"#2a3f5f\"},\"error_y\":{\"color\":\"#2a3f5f\"},\"marker\":{\"line\":{\"color\":\"#E5ECF6\",\"width\":0.5},\"pattern\":{\"fillmode\":\"overlay\",\"size\":10,\"solidity\":0.2}},\"type\":\"bar\"}],\"scattergeo\":[{\"type\":\"scattergeo\",\"marker\":{\"colorbar\":{\"outlinewidth\":0,\"ticks\":\"\"}}}],\"scatterpolar\":[{\"type\":\"scatterpolar\",\"marker\":{\"colorbar\":{\"outlinewidth\":0,\"ticks\":\"\"}}}],\"histogram\":[{\"marker\":{\"pattern\":{\"fillmode\":\"overlay\",\"size\":10,\"solidity\":0.2}},\"type\":\"histogram\"}],\"scattergl\":[{\"type\":\"scattergl\",\"marker\":{\"colorbar\":{\"outlinewidth\":0,\"ticks\":\"\"}}}],\"scatter3d\":[{\"type\":\"scatter3d\",\"line\":{\"colorbar\":{\"outlinewidth\":0,\"ticks\":\"\"}},\"marker\":{\"colorbar\":{\"outlinewidth\":0,\"ticks\":\"\"}}}],\"scattermapbox\":[{\"type\":\"scattermapbox\",\"marker\":{\"colorbar\":{\"outlinewidth\":0,\"ticks\":\"\"}}}],\"scatterternary\":[{\"type\":\"scatterternary\",\"marker\":{\"colorbar\":{\"outlinewidth\":0,\"ticks\":\"\"}}}],\"scattercarpet\":[{\"type\":\"scattercarpet\",\"marker\":{\"colorbar\":{\"outlinewidth\":0,\"ticks\":\"\"}}}],\"carpet\":[{\"aaxis\":{\"endlinecolor\":\"#2a3f5f\",\"gridcolor\":\"white\",\"linecolor\":\"white\",\"minorgridcolor\":\"white\",\"startlinecolor\":\"#2a3f5f\"},\"baxis\":{\"endlinecolor\":\"#2a3f5f\",\"gridcolor\":\"white\",\"linecolor\":\"white\",\"minorgridcolor\":\"white\",\"startlinecolor\":\"#2a3f5f\"},\"type\":\"carpet\"}],\"table\":[{\"cells\":{\"fill\":{\"color\":\"#EBF0F8\"},\"line\":{\"color\":\"white\"}},\"header\":{\"fill\":{\"color\":\"#C8D4E3\"},\"line\":{\"color\":\"white\"}},\"type\":\"table\"}],\"barpolar\":[{\"marker\":{\"line\":{\"color\":\"#E5ECF6\",\"width\":0.5},\"pattern\":{\"fillmode\":\"overlay\",\"size\":10,\"solidity\":0.2}},\"type\":\"barpolar\"}],\"pie\":[{\"automargin\":true,\"type\":\"pie\"}]},\"layout\":{\"autotypenumbers\":\"strict\",\"colorway\":[\"#636efa\",\"#EF553B\",\"#00cc96\",\"#ab63fa\",\"#FFA15A\",\"#19d3f3\",\"#FF6692\",\"#B6E880\",\"#FF97FF\",\"#FECB52\"],\"font\":{\"color\":\"#2a3f5f\"},\"hovermode\":\"closest\",\"hoverlabel\":{\"align\":\"left\"},\"paper_bgcolor\":\"white\",\"plot_bgcolor\":\"#E5ECF6\",\"polar\":{\"bgcolor\":\"#E5ECF6\",\"angularaxis\":{\"gridcolor\":\"white\",\"linecolor\":\"white\",\"ticks\":\"\"},\"radialaxis\":{\"gridcolor\":\"white\",\"linecolor\":\"white\",\"ticks\":\"\"}},\"ternary\":{\"bgcolor\":\"#E5ECF6\",\"aaxis\":{\"gridcolor\":\"white\",\"linecolor\":\"white\",\"ticks\":\"\"},\"baxis\":{\"gridcolor\":\"white\",\"linecolor\":\"white\",\"ticks\":\"\"},\"caxis\":{\"gridcolor\":\"white\",\"linecolor\":\"white\",\"ticks\":\"\"}},\"coloraxis\":{\"colorbar\":{\"outlinewidth\":0,\"ticks\":\"\"}},\"colorscale\":{\"sequential\":[[0.0,\"#0d0887\"],[0.1111111111111111,\"#46039f\"],[0.2222222222222222,\"#7201a8\"],[0.3333333333333333,\"#9c179e\"],[0.4444444444444444,\"#bd3786\"],[0.5555555555555556,\"#d8576b\"],[0.6666666666666666,\"#ed7953\"],[0.7777777777777778,\"#fb9f3a\"],[0.8888888888888888,\"#fdca26\"],[1.0,\"#f0f921\"]],\"sequentialminus\":[[0.0,\"#0d0887\"],[0.1111111111111111,\"#46039f\"],[0.2222222222222222,\"#7201a8\"],[0.3333333333333333,\"#9c179e\"],[0.4444444444444444,\"#bd3786\"],[0.5555555555555556,\"#d8576b\"],[0.6666666666666666,\"#ed7953\"],[0.7777777777777778,\"#fb9f3a\"],[0.8888888888888888,\"#fdca26\"],[1.0,\"#f0f921\"]],\"diverging\":[[0,\"#8e0152\"],[0.1,\"#c51b7d\"],[0.2,\"#de77ae\"],[0.3,\"#f1b6da\"],[0.4,\"#fde0ef\"],[0.5,\"#f7f7f7\"],[0.6,\"#e6f5d0\"],[0.7,\"#b8e186\"],[0.8,\"#7fbc41\"],[0.9,\"#4d9221\"],[1,\"#276419\"]]},\"xaxis\":{\"gridcolor\":\"white\",\"linecolor\":\"white\",\"ticks\":\"\",\"title\":{\"standoff\":15},\"zerolinecolor\":\"white\",\"automargin\":true,\"zerolinewidth\":2},\"yaxis\":{\"gridcolor\":\"white\",\"linecolor\":\"white\",\"ticks\":\"\",\"title\":{\"standoff\":15},\"zerolinecolor\":\"white\",\"automargin\":true,\"zerolinewidth\":2},\"scene\":{\"xaxis\":{\"backgroundcolor\":\"#E5ECF6\",\"gridcolor\":\"white\",\"linecolor\":\"white\",\"showbackground\":true,\"ticks\":\"\",\"zerolinecolor\":\"white\",\"gridwidth\":2},\"yaxis\":{\"backgroundcolor\":\"#E5ECF6\",\"gridcolor\":\"white\",\"linecolor\":\"white\",\"showbackground\":true,\"ticks\":\"\",\"zerolinecolor\":\"white\",\"gridwidth\":2},\"zaxis\":{\"backgroundcolor\":\"#E5ECF6\",\"gridcolor\":\"white\",\"linecolor\":\"white\",\"showbackground\":true,\"ticks\":\"\",\"zerolinecolor\":\"white\",\"gridwidth\":2}},\"shapedefaults\":{\"line\":{\"color\":\"#2a3f5f\"}},\"annotationdefaults\":{\"arrowcolor\":\"#2a3f5f\",\"arrowhead\":0,\"arrowwidth\":1},\"geo\":{\"bgcolor\":\"white\",\"landcolor\":\"#E5ECF6\",\"subunitcolor\":\"white\",\"showland\":true,\"showlakes\":true,\"lakecolor\":\"white\"},\"title\":{\"x\":0.05},\"mapbox\":{\"style\":\"light\"}}},\"xaxis\":{\"anchor\":\"y\",\"domain\":[0.0,1.0],\"title\":{\"text\":\"x\"}},\"yaxis\":{\"anchor\":\"x\",\"domain\":[0.0,1.0],\"title\":{\"text\":\"y\"}},\"legend\":{\"tracegroupgap\":0},\"margin\":{\"t\":60},\"height\":800},                        {\"responsive\": true}                    ).then(function(){\n",
       "                            \n",
       "var gd = document.getElementById('ee9f53ef-bda3-42b7-9a75-e379047ad2a3');\n",
       "var x = new MutationObserver(function (mutations, observer) {{\n",
       "        var display = window.getComputedStyle(gd).display;\n",
       "        if (!display || display === 'none') {{\n",
       "            console.log([gd, 'removed!']);\n",
       "            Plotly.purge(gd);\n",
       "            observer.disconnect();\n",
       "        }}\n",
       "}});\n",
       "\n",
       "// Listen for the removal of the full notebook cells\n",
       "var notebookContainer = gd.closest('#notebook-container');\n",
       "if (notebookContainer) {{\n",
       "    x.observe(notebookContainer, {childList: true});\n",
       "}}\n",
       "\n",
       "// Listen for the clearing of the current output cell\n",
       "var outputEl = gd.closest('.output');\n",
       "if (outputEl) {{\n",
       "    x.observe(outputEl, {childList: true});\n",
       "}}\n",
       "\n",
       "                        })                };                });            </script>        </div>"
      ]
     },
     "metadata": {},
     "output_type": "display_data"
    }
   ],
   "source": [
    "px.scatter(\n",
    "    x=cave.walls()[0], \n",
    "    y=-cave.walls()[1],\n",
    "    height=800\n",
    ")"
   ]
  },
  {
   "cell_type": "code",
   "execution_count": null,
   "metadata": {},
   "outputs": [],
   "source": []
  }
 ],
 "metadata": {
  "kernelspec": {
   "display_name": "Python 3.10.0 ('aoc2022-fSWkufjZ')",
   "language": "python",
   "name": "python3"
  },
  "language_info": {
   "codemirror_mode": {
    "name": "ipython",
    "version": 3
   },
   "file_extension": ".py",
   "mimetype": "text/x-python",
   "name": "python",
   "nbconvert_exporter": "python",
   "pygments_lexer": "ipython3",
   "version": "3.10.0"
  },
  "orig_nbformat": 4,
  "vscode": {
   "interpreter": {
    "hash": "c3befa900596c979ec6d5c26104454d5fef4645a59abeaf67099ce7507b121d9"
   }
  }
 },
 "nbformat": 4,
 "nbformat_minor": 2
}
