{
 "cells": [
  {
   "cell_type": "code",
   "execution_count": 17,
   "metadata": {},
   "outputs": [],
   "source": [
    "def parse_input(path):\n",
    "    with open(path, \"r\") as f:\n",
    "        lines = f.readlines()\n",
    "    cubes = []\n",
    "    for line in lines:\n",
    "        line = line.strip()\n",
    "        if line != \"\":\n",
    "            cube = [int(num) for num in line.split(\",\")]\n",
    "            cubes.append(tuple(cube))\n",
    "    return cubes"
   ]
  },
  {
   "cell_type": "code",
   "execution_count": 18,
   "metadata": {},
   "outputs": [
    {
     "data": {
      "text/plain": [
       "[(2, 2, 2),\n",
       " (1, 2, 2),\n",
       " (3, 2, 2),\n",
       " (2, 1, 2),\n",
       " (2, 3, 2),\n",
       " (2, 2, 1),\n",
       " (2, 2, 3),\n",
       " (2, 2, 4),\n",
       " (2, 2, 6),\n",
       " (1, 2, 5),\n",
       " (3, 2, 5),\n",
       " (2, 1, 5),\n",
       " (2, 3, 5)]"
      ]
     },
     "execution_count": 18,
     "metadata": {},
     "output_type": "execute_result"
    }
   ],
   "source": [
    "test_input = parse_input(\"inputs/d18_test\")\n",
    "test_input"
   ]
  },
  {
   "cell_type": "code",
   "execution_count": 19,
   "metadata": {},
   "outputs": [],
   "source": [
    "input = parse_input(\"inputs/d18\")"
   ]
  },
  {
   "cell_type": "code",
   "execution_count": 7,
   "metadata": {},
   "outputs": [
    {
     "data": {
      "text/plain": [
       "2197"
      ]
     },
     "execution_count": 7,
     "metadata": {},
     "output_type": "execute_result"
    }
   ],
   "source": [
    "13 ** 3"
   ]
  },
  {
   "cell_type": "code",
   "execution_count": 8,
   "metadata": {},
   "outputs": [],
   "source": [
    "def p1(cubes: list[list[int]]) -> int:\n",
    "    area = 0\n",
    "    for [x, y, z] in cubes:\n",
    "        touching = 0\n",
    "        for [x2, y2, z2] in cubes:\n",
    "            if (\n",
    "                (x == x2 and y == y2 and abs(z - z2) == 1) or (\n",
    "                    x == x2 and z == z2 and abs(y - y2) == 1) or (y == y2 and z == z2 and abs(x - x2) == 1)\n",
    "            ):\n",
    "                touching += 1\n",
    "        area += 6 - touching\n",
    "    return area "
   ]
  },
  {
   "cell_type": "code",
   "execution_count": 14,
   "metadata": {},
   "outputs": [
    {
     "name": "stdout",
     "output_type": "stream",
     "text": [
      "12.3 µs ± 137 ns per loop (mean ± std. dev. of 7 runs, 100,000 loops each)\n"
     ]
    }
   ],
   "source": [
    "%%timeit\n",
    "p1(test_input)"
   ]
  },
  {
   "cell_type": "code",
   "execution_count": 10,
   "metadata": {},
   "outputs": [],
   "source": [
    "assert p1(test_input) == 64"
   ]
  },
  {
   "cell_type": "code",
   "execution_count": 23,
   "metadata": {},
   "outputs": [],
   "source": [
    "Cube = tuple[int, int, int]"
   ]
  },
  {
   "cell_type": "code",
   "execution_count": 25,
   "metadata": {},
   "outputs": [],
   "source": [
    "def touching_cubes(cube: Cube):\n",
    "    (x, y, z) = cube\n",
    "    return {\n",
    "        (x - 1, y, z),\n",
    "        (x + 1, y, z),\n",
    "        (x, y - 1, z),\n",
    "        (x, y + 1, z),\n",
    "        (x, y, z - 1),\n",
    "        (x, y, z + 1)\n",
    "    }"
   ]
  },
  {
   "cell_type": "code",
   "execution_count": 28,
   "metadata": {},
   "outputs": [
    {
     "data": {
      "text/plain": [
       "6"
      ]
     },
     "execution_count": 28,
     "metadata": {},
     "output_type": "execute_result"
    }
   ],
   "source": [
    "len(touching_cubes((1, 1, 1)))"
   ]
  },
  {
   "cell_type": "code",
   "execution_count": null,
   "metadata": {},
   "outputs": [],
   "source": [
    "set.intersection"
   ]
  },
  {
   "cell_type": "code",
   "execution_count": 29,
   "metadata": {},
   "outputs": [],
   "source": [
    "def p1(cubes: list[tuple[int, int, int]]) -> int:\n",
    "    area = 0\n",
    "    cubes = set(cubes)\n",
    "    for cube in cubes:\n",
    "        touching = touching_cubes(cube).intersection(cubes)\n",
    "        area += 6 - len(touching)\n",
    "    return area"
   ]
  },
  {
   "cell_type": "code",
   "execution_count": 31,
   "metadata": {},
   "outputs": [
    {
     "name": "stdout",
     "output_type": "stream",
     "text": [
      "7.83 µs ± 166 ns per loop (mean ± std. dev. of 7 runs, 100,000 loops each)\n"
     ]
    }
   ],
   "source": [
    "%%timeit\n",
    "p1(test_input)"
   ]
  },
  {
   "cell_type": "code",
   "execution_count": 32,
   "metadata": {},
   "outputs": [
    {
     "data": {
      "text/plain": [
       "4444"
      ]
     },
     "execution_count": 32,
     "metadata": {},
     "output_type": "execute_result"
    }
   ],
   "source": [
    "p1(input)"
   ]
  }
 ],
 "metadata": {
  "kernelspec": {
   "display_name": "Python 3.10.0 ('aoc2022-fSWkufjZ')",
   "language": "python",
   "name": "python3"
  },
  "language_info": {
   "codemirror_mode": {
    "name": "ipython",
    "version": 3
   },
   "file_extension": ".py",
   "mimetype": "text/x-python",
   "name": "python",
   "nbconvert_exporter": "python",
   "pygments_lexer": "ipython3",
   "version": "3.10.0"
  },
  "orig_nbformat": 4,
  "vscode": {
   "interpreter": {
    "hash": "c3befa900596c979ec6d5c26104454d5fef4645a59abeaf67099ce7507b121d9"
   }
  }
 },
 "nbformat": 4,
 "nbformat_minor": 2
}
