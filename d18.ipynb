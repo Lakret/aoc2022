{
 "cells": [
  {
   "cell_type": "code",
   "execution_count": 23,
   "metadata": {},
   "outputs": [],
   "source": [
    "Cube = tuple[int, int, int]"
   ]
  },
  {
   "cell_type": "code",
   "execution_count": 17,
   "metadata": {},
   "outputs": [],
   "source": [
    "def parse_input(path) -> list[Cube]:\n",
    "    with open(path, \"r\") as f:\n",
    "        lines = f.readlines()\n",
    "    cubes = []\n",
    "    for line in lines:\n",
    "        line = line.strip()\n",
    "        if line != \"\":\n",
    "            cube = [int(num) for num in line.split(\",\")]\n",
    "            cubes.append(tuple(cube))\n",
    "    return cubes"
   ]
  },
  {
   "cell_type": "code",
   "execution_count": 37,
   "metadata": {},
   "outputs": [],
   "source": [
    "test_input = parse_input(\"inputs/d18_test\")\n",
    "input = parse_input(\"inputs/d18\")"
   ]
  },
  {
   "cell_type": "code",
   "execution_count": 25,
   "metadata": {},
   "outputs": [],
   "source": [
    "def touching_cubes(cube: Cube):\n",
    "    (x, y, z) = cube\n",
    "    return {\n",
    "        (x - 1, y, z),\n",
    "        (x + 1, y, z),\n",
    "        (x, y - 1, z),\n",
    "        (x, y + 1, z),\n",
    "        (x, y, z - 1),\n",
    "        (x, y, z + 1)\n",
    "    }"
   ]
  },
  {
   "cell_type": "code",
   "execution_count": 33,
   "metadata": {},
   "outputs": [],
   "source": [
    "def p1(cubes: list[Cube]) -> int:\n",
    "    area = 0\n",
    "    cubes = set(cubes)\n",
    "    for cube in cubes:\n",
    "        touching = touching_cubes(cube).intersection(cubes)\n",
    "        area += 6 - len(touching)\n",
    "    return area"
   ]
  },
  {
   "cell_type": "code",
   "execution_count": 36,
   "metadata": {},
   "outputs": [
    {
     "name": "stdout",
     "output_type": "stream",
     "text": [
      "CPU times: user 20 µs, sys: 0 ns, total: 20 µs\n",
      "Wall time: 21.9 µs\n"
     ]
    },
    {
     "data": {
      "text/plain": [
       "64"
      ]
     },
     "execution_count": 36,
     "metadata": {},
     "output_type": "execute_result"
    }
   ],
   "source": [
    "%time p1(test_input)"
   ]
  },
  {
   "cell_type": "code",
   "execution_count": 35,
   "metadata": {},
   "outputs": [
    {
     "name": "stdout",
     "output_type": "stream",
     "text": [
      "CPU times: user 2.49 ms, sys: 0 ns, total: 2.49 ms\n",
      "Wall time: 2.49 ms\n"
     ]
    },
    {
     "data": {
      "text/plain": [
       "4444"
      ]
     },
     "execution_count": 35,
     "metadata": {},
     "output_type": "execute_result"
    }
   ],
   "source": [
    "%time p1(input)"
   ]
  },
  {
   "cell_type": "code",
   "execution_count": 73,
   "metadata": {},
   "outputs": [],
   "source": [
    "CoordsRange = tuple[int, int]\n",
    "BoundingCube = tuple[CoordsRange, CoordsRange, CoordsRange]\n",
    "\n",
    "def bounding_cube_plus_1(cubes: list[Cube]) -> BoundingCube: \n",
    "   xs, ys, zs = [cube[0] for cube in cubes], [cube[1] for cube in cubes], [cube[2] for cube in cubes]\n",
    "   min_x, max_x = min(xs) - 1, max(xs) + 1\n",
    "   min_y, max_y = min(ys) - 1, max(ys) + 1\n",
    "   min_z, max_z = min(zs) - 1, max(zs) + 1\n",
    "   return ((min_x, max_x), (min_y, max_y), (min_z, max_z))\n",
    "   "
   ]
  },
  {
   "cell_type": "code",
   "execution_count": 85,
   "metadata": {},
   "outputs": [],
   "source": [
    "def is_inside_bounding_cube(cube: Cube, bounding_cube: BoundingCube) -> bool:\n",
    "    return cube[0] >= bounding_cube[0][0] and cube[0] <= bounding_cube[0][1] and \\\n",
    "        cube[1] >= bounding_cube[1][0] and cube[1] <= bounding_cube[1][1] and \\\n",
    "            cube[2] >= bounding_cube[2][0] and cube[2] <= bounding_cube[2][1]"
   ]
  },
  {
   "cell_type": "code",
   "execution_count": 97,
   "metadata": {},
   "outputs": [],
   "source": [
    "def p2(cubes: list[Cube]) -> int:\n",
    "    cubes = set(cubes)\n",
    "    bounding_cube = bounding_cube_plus_1(cubes)\n",
    "    \n",
    "    exterior_surface_area = 0\n",
    "    frontier = {(bounding_cube[0][0], bounding_cube[1][0], bounding_cube[2][0])}\n",
    "    visited = set()\n",
    "    while frontier:\n",
    "        curr = frontier.pop()\n",
    "\n",
    "        if is_inside_bounding_cube(curr, bounding_cube):\n",
    "            visited.add(curr)\n",
    "            neighbours = touching_cubes(curr).difference(visited)\n",
    "\n",
    "            exterior_surface_area += len(neighbours.intersection(cubes))\n",
    "            frontier.update(neighbours.difference(cubes))\n",
    "\n",
    "    return exterior_surface_area"
   ]
  },
  {
   "cell_type": "code",
   "execution_count": 99,
   "metadata": {},
   "outputs": [
    {
     "name": "stdout",
     "output_type": "stream",
     "text": [
      "CPU times: user 392 µs, sys: 12 µs, total: 404 µs\n",
      "Wall time: 407 µs\n"
     ]
    },
    {
     "data": {
      "text/plain": [
       "58"
      ]
     },
     "execution_count": 99,
     "metadata": {},
     "output_type": "execute_result"
    }
   ],
   "source": [
    "%time p2(test_input)"
   ]
  },
  {
   "cell_type": "code",
   "execution_count": 100,
   "metadata": {},
   "outputs": [
    {
     "name": "stdout",
     "output_type": "stream",
     "text": [
      "CPU times: user 17 ms, sys: 0 ns, total: 17 ms\n",
      "Wall time: 16.9 ms\n"
     ]
    },
    {
     "data": {
      "text/plain": [
       "2530"
      ]
     },
     "execution_count": 100,
     "metadata": {},
     "output_type": "execute_result"
    }
   ],
   "source": [
    "%time p2(input)"
   ]
  }
 ],
 "metadata": {
  "kernelspec": {
   "display_name": "Python 3.10.0 ('aoc2022-fSWkufjZ')",
   "language": "python",
   "name": "python3"
  },
  "language_info": {
   "codemirror_mode": {
    "name": "ipython",
    "version": 3
   },
   "file_extension": ".py",
   "mimetype": "text/x-python",
   "name": "python",
   "nbconvert_exporter": "python",
   "pygments_lexer": "ipython3",
   "version": "3.10.0"
  },
  "orig_nbformat": 4,
  "vscode": {
   "interpreter": {
    "hash": "c3befa900596c979ec6d5c26104454d5fef4645a59abeaf67099ce7507b121d9"
   }
  }
 },
 "nbformat": 4,
 "nbformat_minor": 2
}
